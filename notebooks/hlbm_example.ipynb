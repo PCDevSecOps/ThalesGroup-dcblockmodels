{
 "cells": [
  {
   "cell_type": "markdown",
   "id": "8ab48679",
   "metadata": {},
   "source": [
    "**This notebook allows to simulate data, classify it using a HLBM model and evaluate the model in a controlled environnement. The model is a semi-supervised (or constrained) LBM `HLBM` using pairwise constraints in both row and column space.**"
   ]
  },
  {
   "cell_type": "markdown",
   "id": "3f254231",
   "metadata": {},
   "source": [
    "# Imports"
   ]
  },
  {
   "cell_type": "code",
   "execution_count": null,
   "id": "63dc66e2",
   "metadata": {
    "ExecuteTime": {
     "end_time": "2022-02-03T14:12:31.205763Z",
     "start_time": "2022-02-03T14:12:31.190085Z"
    }
   },
   "outputs": [],
   "source": [
    "import sys, os\n",
    "os.path.dirname(sys.executable), sys.version, sys.path"
   ]
  },
  {
   "cell_type": "code",
   "execution_count": null,
   "id": "1f35a7d1",
   "metadata": {
    "ExecuteTime": {
     "end_time": "2022-02-03T14:12:32.532417Z",
     "start_time": "2022-02-03T14:12:31.799891Z"
    },
    "scrolled": true
   },
   "outputs": [],
   "source": [
    "%config Completer.use_jedi = False\n",
    "#!jt -t onedork -fs 100 -altp -tfs 11 -nfs 100 -cellw 60% -T -N\n",
    "%pip list"
   ]
  },
  {
   "cell_type": "code",
   "execution_count": null,
   "id": "86c3d00f",
   "metadata": {
    "ExecuteTime": {
     "end_time": "2022-02-10T09:23:31.751414Z",
     "start_time": "2022-02-10T09:23:28.903594Z"
    }
   },
   "outputs": [],
   "source": [
    "import sys\n",
    "import pathlib\n",
    "import numpy as np\n",
    "import scipy as sp\n",
    "import matplotlib.pyplot as plt\n",
    "import seaborn as sns\n",
    "%matplotlib inline\n",
    "\n",
    "from sklearn.metrics import confusion_matrix\n",
    "\n",
    "import warnings\n",
    "warnings.filterwarnings(\"ignore\", category=DeprecationWarning)\n",
    "warnings.filterwarnings(\"ignore\", message='Deprecation')\n",
    "\n",
    "from dcblockmodels.models.hlbm import HLBM\n",
    "\n",
    "from dcblockmodels import metrics, plot, data\n",
    "from dcblockmodels.models.utils import similarity_matrices, general, init\n",
    "from dcblockmodels.models.utils.smoothing_schedule import SmoothingSchedule"
   ]
  },
  {
   "cell_type": "markdown",
   "id": "aafeaf5d",
   "metadata": {},
   "source": [
    "# Data"
   ]
  },
  {
   "cell_type": "markdown",
   "id": "562c9e8e",
   "metadata": {},
   "source": [
    "## Sampling the data"
   ]
  },
  {
   "cell_type": "code",
   "execution_count": null,
   "id": "c3793686",
   "metadata": {
    "ExecuteTime": {
     "end_time": "2022-02-10T09:23:31.757910Z",
     "start_time": "2022-02-10T09:23:31.753531Z"
    }
   },
   "outputs": [],
   "source": [
    "# whether we sample from a SBM or LBM\n",
    "model_type = 'LBM'\n",
    "# in case of SBM, whether the graph is directed\n",
    "directed = True\n",
    "# number of time steps\n",
    "T = 10\n",
    "# nb of row nodes, nb of column nodes\n",
    "N, D = 100, 200\n",
    "# nb row clusters, nb of column clusters \n",
    "Kz, Kw = 3, 4"
   ]
  },
  {
   "cell_type": "code",
   "execution_count": null,
   "id": "ddd4da4c",
   "metadata": {
    "ExecuteTime": {
     "end_time": "2022-02-10T09:23:31.773339Z",
     "start_time": "2022-02-10T09:23:31.759331Z"
    }
   },
   "outputs": [],
   "source": [
    "level_alpha = 'medium'\n",
    "level_beta = 'medium'\n",
    "level_pi = 'medium'\n",
    "level_rho = 'medium'\n",
    "\n",
    "alphas_dirichlet = {\n",
    "    'very_easy': 10,\n",
    "    'easy': 8,\n",
    "    'medium': 6,\n",
    "    'hard': 4\n",
    "}\n",
    "diag_vals = {\n",
    "  'diag': 0,\n",
    "  'easy': .9,\n",
    "  'medium': .75,\n",
    "  'hard': .6\n",
    "}\n",
    "\n",
    "alpha = data.generate_initial_proportions(Kz, alphas_dirichlet[level_alpha])\n",
    "beta = data.generate_initial_proportions(Kw, alphas_dirichlet[level_beta])\n",
    "prior_init = {'alpha': alpha, 'beta': beta}\n",
    "\n",
    "pi = data.generate_diag_transition_matrix(Kz, diag_vals[level_pi]) \n",
    "rho = data.generate_diag_transition_matrix(Kw, diag_vals[level_rho])\n",
    "prior_trans = {'pi': pi, 'rho': rho}\n",
    "\n",
    "alpha, pi, beta, rho"
   ]
  },
  {
   "cell_type": "code",
   "execution_count": null,
   "id": "155d99f1",
   "metadata": {
    "ExecuteTime": {
     "end_time": "2022-02-10T09:23:32.496038Z",
     "start_time": "2022-02-10T09:23:32.332025Z"
    }
   },
   "outputs": [],
   "source": [
    "with_margins = True # True, False\n",
    "constant_margins = False # True, False\n",
    "start, stop, step = 1, 50, .1\n",
    "order_power_law = -1.5 # margins ~ Unif(start, stop)^order_power_law\n",
    "ar_margins, a_ar, sigma2_ar = True, 1.1, .05 # mu ~ AR1 : mu_{t+1} = N(a mu_t + c, sigma2) (c s.t. mu increasing if sigma2 = 0)\n",
    "\n",
    "if with_margins:\n",
    "    mu, nu = data.generate_margins(\n",
    "            T, N, D, constant_margins, start, stop, step,\n",
    "            directed, order_power_law,\n",
    "            ar_margins, a_ar, sigma2_ar\n",
    "    )\n",
    "    margins = {'mu': mu, 'nu': nu}\n",
    "else:\n",
    "    margins = None\n",
    "    \n",
    "margins"
   ]
  },
  {
   "cell_type": "code",
   "execution_count": null,
   "id": "e962e8fd",
   "metadata": {
    "ExecuteTime": {
     "end_time": "2022-02-10T09:23:49.335157Z",
     "start_time": "2022-02-10T09:23:49.310317Z"
    }
   },
   "outputs": [],
   "source": [
    "with_absent_nodes = False\n",
    "min_proba_t = .0\n",
    "max_proba_t = .2\n",
    "proba_absent = None\n",
    "\n",
    "if with_absent_nodes:\n",
    "    absent_row_nodes = data.sample_absent_nodes(\n",
    "        T, N,\n",
    "        min_proba_t=min_proba_t,\n",
    "        max_proba_t=max_proba_t,\n",
    "        proba_absent=proba_absent\n",
    "    )\n",
    "    if not directed:\n",
    "        absent_col_nodes = absent_row_nodes.copy()\n",
    "    else:\n",
    "        absent_col_nodes = data.sample_absent_nodes(\n",
    "            T, D,\n",
    "            min_proba_t=min_proba_t,\n",
    "            max_proba_t=max_proba_t,\n",
    "            proba_absent=proba_absent\n",
    "        )\n",
    "else:\n",
    "    absent_row_nodes, absent_col_nodes = [], []\n",
    "\n",
    "absent_nodes = {\n",
    "    'absent_row_nodes': absent_row_nodes,\n",
    "    'absent_col_nodes': absent_col_nodes\n",
    "}\n",
    "\n",
    "absent_nodes"
   ]
  },
  {
   "cell_type": "code",
   "execution_count": null,
   "id": "f1f1669f",
   "metadata": {
    "ExecuteTime": {
     "end_time": "2022-02-10T09:23:56.082978Z",
     "start_time": "2022-02-10T09:23:56.062983Z"
    }
   },
   "outputs": [],
   "source": [
    "# scaling factor for the matrix gamma : determines the separability level\n",
    "# lower is harder and more sparse\n",
    "gamma_0 = .01\n",
    "\n",
    "# defines the sparsity in a block\n",
    "# block_sparsity_matrix[t, k, l] is the proba of a zero\n",
    "# in block (k, l) at time t\n",
    "# corresponds to the \\beta_{kl}^t of Matias\n",
    "block_sparsity_matrix = None\n",
    "# block_sparsity_matrix = 0.1 * np.ones((Kz, Kw), dtype='float')\n",
    "\n",
    "# if we add gaussian noise to the sampled graph\n",
    "# not advised since it can make models with lower\n",
    "# complete data log likelihood give better classification results\n",
    "# than model with higher complete data log likelihood\n",
    "noise_level_ = 0.\n",
    "\n",
    "\n",
    "if Kz == 3 and Kw == 4:\n",
    "    gamma  = gamma_0 * np.array([\n",
    "        [1, 2, 3, 1 ],\n",
    "        [3, 1, 2, 3 ],\n",
    "        [2, 3, 1, 4 ]\n",
    "    ])\n",
    "elif Kz == 3 and Kw == 3:\n",
    "    gamma  = gamma_0 * np.array([\n",
    "        [1, 2, 3],\n",
    "        [3, 1, 2],\n",
    "        [2, 3, 1]\n",
    "    ])\n",
    "else:\n",
    "    raise ValueError\n",
    "\n",
    "if T > 1:\n",
    "    gamma = np.stack([gamma for _ in range(T)], axis=0)\n",
    "    if block_sparsity_matrix is not None:\n",
    "        block_sparsity_matrix = np.stack([block_sparsity_matrix for _ in range(T)], axis=0)\n",
    "        \n",
    "gamma"
   ]
  },
  {
   "cell_type": "code",
   "execution_count": null,
   "id": "1ab60b66",
   "metadata": {
    "ExecuteTime": {
     "end_time": "2022-02-10T09:24:00.099758Z",
     "start_time": "2022-02-10T09:23:58.117497Z"
    }
   },
   "outputs": [],
   "source": [
    "dimensions = {'N': N, 'D': D}\n",
    "n_clusters = {'Kz': Kz, 'Kw': Kw}\n",
    "\n",
    "self_loops = True\n",
    "dtype = 'int32'\n",
    "\n",
    "X, Z, W = data.generate_data(\n",
    "    T,\n",
    "    model_type,\n",
    "    dimensions,\n",
    "    n_clusters,\n",
    "    prior_init,\n",
    "    prior_trans,\n",
    "    gamma,\n",
    "    with_margins,\n",
    "    margins,\n",
    "    self_loops,\n",
    "    directed,\n",
    "    noise_level_,\n",
    "    with_absent_nodes,\n",
    "    absent_nodes,\n",
    "    dtype,\n",
    "    block_sparsity_matrix\n",
    ")"
   ]
  },
  {
   "cell_type": "markdown",
   "id": "a2f6984a",
   "metadata": {},
   "source": [
    "## Plot"
   ]
  },
  {
   "cell_type": "markdown",
   "id": "621122f7",
   "metadata": {},
   "source": [
    "### Block view & link with matrix factorization"
   ]
  },
  {
   "cell_type": "code",
   "execution_count": null,
   "id": "851d9f4c",
   "metadata": {
    "ExecuteTime": {
     "end_time": "2022-02-03T11:40:22.239985Z",
     "start_time": "2022-02-03T11:40:21.551891Z"
    }
   },
   "outputs": [],
   "source": [
    "t_plot = 0\n",
    "X_ = X[t_plot] if X.ndim == 3 else X\n",
    "Z_ = Z[t_plot] if X.ndim == 3 else Z\n",
    "W_ = W[t_plot] if X.ndim == 3 else W\n",
    "gamma_ = gamma[t_plot] if X.ndim == 3 else gamma\n",
    "\n",
    "row_indices = np.argsort(Z_.astype(int))\n",
    "col_indices = np.argsort(W_.astype(int))\n",
    "\n",
    "cmap = sns.cubehelix_palette(light=1., as_cmap=True)\n",
    "f, ax = plt.subplots(1, 4, figsize=(4 * 5, 5))\n",
    "\n",
    "sns.heatmap(X_, ax=ax[0], cbar=False, square=False, xticklabels=False, yticklabels=False, cmap=cmap)\n",
    "ax[0].set_title('Raw data')\n",
    "\n",
    "sns.heatmap(X_[row_indices, :], ax=ax[1], cbar=False, square=False, xticklabels=False, yticklabels=False, cmap=cmap)\n",
    "ax[1].set_title('Row-reorganized data')\n",
    "\n",
    "sns.heatmap(X_[np.ix_(row_indices, col_indices)], ax=ax[2], cbar=False, square=False, xticklabels=False, yticklabels=False, cmap=cmap)\n",
    "ax[2].set_title('Row and column-reorganized data')\n",
    "\n",
    "Z_encoded = general.encode(Z_, Kz)\n",
    "W_encoded = general.encode(W_, Kw)\n",
    "X_approx = Z_encoded.dot(gamma_).dot(W_encoded.T)\n",
    "sns.heatmap(X_approx[np.ix_(row_indices, col_indices)], ax=ax[3], cbar=False, square=False, xticklabels=False, yticklabels=False, cmap=cmap)\n",
    "ax[3].set_title('Connectivity-approximized data')\n",
    "\n",
    "plt.tight_layout()"
   ]
  },
  {
   "cell_type": "markdown",
   "id": "6f3b3e3c",
   "metadata": {},
   "source": [
    "### Dimensionality reduction with Correspondence Analysis"
   ]
  },
  {
   "cell_type": "code",
   "execution_count": null,
   "id": "a4ac827f",
   "metadata": {
    "ExecuteTime": {
     "end_time": "2022-02-03T11:40:39.150051Z",
     "start_time": "2022-02-03T11:40:34.318621Z"
    }
   },
   "outputs": [],
   "source": [
    "t_plot = 0\n",
    "t_plot = [t for t in range(T)]\n",
    "t_plot = [0, T//2, T - 1]\n",
    "\n",
    "if X.ndim == 2:\n",
    "    plot.CA_plot(X, Z, W)\n",
    "else:\n",
    "    if type(t_plot) == int:\n",
    "        t_plot = [t_plot]\n",
    "\n",
    "    n_plots = len(t_plot)\n",
    "    f, ax = plt.subplots(n_plots, 2, figsize=(10, 5 * n_plots))\n",
    "    for i, t in enumerate(t_plot):\n",
    "        W_plot = W[t] if W is not None else None\n",
    "\n",
    "        absent_row = [tup[1] for tup in absent_row_nodes if tup[0] == t]\n",
    "        absent_col = [tup[1] for tup in absent_col_nodes if tup[0] == t]\n",
    "\n",
    "        plot.CA_plot(\n",
    "            X[t],\n",
    "            Z[t], W_plot,\n",
    "            absent_row, absent_col,\n",
    "            ax=ax[i]\n",
    "        )\n",
    "        ax[i, 0].set_title(f't = {t}')\n",
    "        ax[i, 1].set_title(f't = {t}')\n"
   ]
  },
  {
   "cell_type": "markdown",
   "id": "e3c8e4a2",
   "metadata": {},
   "source": [
    "### True margins"
   ]
  },
  {
   "cell_type": "markdown",
   "id": "51bdaee3",
   "metadata": {},
   "source": [
    "Plot margins over time, in the dynamic case"
   ]
  },
  {
   "cell_type": "code",
   "execution_count": null,
   "id": "80020334",
   "metadata": {
    "ExecuteTime": {
     "end_time": "2022-02-03T11:40:44.260515Z",
     "start_time": "2022-02-03T11:40:44.011289Z"
    }
   },
   "outputs": [],
   "source": [
    "n_nodes = 20\n",
    "f, ax = plt.subplots(1, 2, figsize=(2 * 6, 4))\n",
    "\n",
    "ax[0].plot(margins['mu'][:, np.random.choice(N, size=n_nodes)]);\n",
    "ax[0].set_title('True row margins mu');\n",
    "\n",
    "ax[1].plot(margins['nu'][:, np.random.choice(D, size=n_nodes)]);\n",
    "ax[1].set_title('True col margins nu');"
   ]
  },
  {
   "cell_type": "markdown",
   "id": "b54caf79",
   "metadata": {},
   "source": [
    "### Factorial Discriminant Analysis"
   ]
  },
  {
   "cell_type": "markdown",
   "id": "6cb7cfe0",
   "metadata": {},
   "source": [
    "Measures the level of linear separability of the classes after projection onto R^N using correspondence analysis\n",
    "\n",
    "See Discriminative Factorial Analysis : http://www.math.u-bordeaux.fr/~mchave100p/wordpress/wp-content/uploads/2013/10/AFD.pdf"
   ]
  },
  {
   "cell_type": "code",
   "execution_count": null,
   "id": "dd360456",
   "metadata": {
    "ExecuteTime": {
     "end_time": "2022-02-03T11:40:49.139055Z",
     "start_time": "2022-02-03T11:40:47.753899Z"
    }
   },
   "outputs": [],
   "source": [
    "t_plot = 0\n",
    "t_plot = [t for t in range(T)]\n",
    "t_plot = [0, T//2, -1]\n",
    "\n",
    "n_components = 3\n",
    "\n",
    "f, ax = plt.subplots(len(t_plot), 2, squeeze=False, sharex=True, sharey=True, figsize=(5 * len(t_plot), 8))\n",
    "xs = np.arange(n_components, dtype='int')\n",
    "\n",
    "if X.ndim == 3:\n",
    "    for i, t in enumerate(t_plot):\n",
    "        res = metrics.AFD_CA_linear_separation(\n",
    "            X[t], Z[t], W[t],\n",
    "            n_components=n_components,\n",
    "            absent_row_nodes=absent_row_nodes,\n",
    "            absent_col_nodes=absent_col_nodes\n",
    "        )\n",
    "\n",
    "        ax[i, 0].bar(xs, res[0])\n",
    "        ax[i, 1].bar(xs, res[1])\n",
    "        ax[i, 0].set_xlabel('factorial axis')\n",
    "        ax[i, 1].set_xlabel('factorial axis')\n",
    "        ax[i, 0].set_title(f'Rows, T = {t}')\n",
    "        ax[i, 1].set_title(f'Cols, T = {t}')\n",
    "else:\n",
    "    res = metrics.AFD_CA_linear_separation(\n",
    "        X, Z, W,\n",
    "        n_components=n_components,\n",
    "        absent_row_nodes=absent_row_nodes,\n",
    "        absent_col_nodes=absent_col_nodes\n",
    "    )\n",
    "    ax[0, 0].bar(xs, res[0])\n",
    "    ax[0, 1].bar(xs, res[1])\n",
    "    ax[0, 0].set_xlabel('factorial axis')\n",
    "    ax[0, 1].set_xlabel('factorial axis')\n",
    "    ax[0, 0].set_title(f'Rows')\n",
    "    ax[0, 1].set_title(f'Cols')\n",
    "        \n",
    "plt.suptitle('CA AFD linear separability', y=1);\n",
    "plt.tight_layout()"
   ]
  },
  {
   "cell_type": "markdown",
   "id": "4c8c6ee6",
   "metadata": {},
   "source": [
    "### Distribution of the values of the cells of the data matrix"
   ]
  },
  {
   "cell_type": "code",
   "execution_count": null,
   "id": "52fbeac0",
   "metadata": {
    "ExecuteTime": {
     "end_time": "2022-02-03T11:41:00.800991Z",
     "start_time": "2022-02-03T11:41:00.136830Z"
    }
   },
   "outputs": [],
   "source": [
    "t_plot = 0\n",
    "t_plot = [t for t in range(T)]\n",
    "t_plot = [0, T//2, -1]\n",
    "\n",
    "bins = 50\n",
    "val_min = 1\n",
    "val_max = 100 # int or None\n",
    "\n",
    "f, ax = plt.subplots(len(t_plot), 1, sharex=True, sharey=True, figsize=(10, 1.5 * len(t_plot)))\n",
    "\n",
    "for i, t in enumerate(t_plot):\n",
    "    values = X[t].flatten()\n",
    "    values = values[values >= val_min]\n",
    "    if val_max is not None:\n",
    "        values = values[values < val_max]\n",
    "    ax[i].hist(values, bins=bins)\n",
    "    ax[i].set_title(f'time t = {t}')\n",
    "    \n",
    "f.suptitle('Histogram of the values of the cells of the data matrix over time');\n",
    "plt.tight_layout();"
   ]
  },
  {
   "cell_type": "code",
   "execution_count": null,
   "id": "70363856",
   "metadata": {
    "ExecuteTime": {
     "end_time": "2022-02-03T11:41:02.120634Z",
     "start_time": "2022-02-03T11:41:01.567850Z"
    }
   },
   "outputs": [],
   "source": [
    "t_plot = 0\n",
    "t_plot = [t for t in range(T)]\n",
    "t_plot = [0, T//2, -1]\n",
    "\n",
    "bins = 50\n",
    "val_min = 0\n",
    "val_max = None #int or None\n",
    "\n",
    "f, ax = plt.subplots(len(t_plot), 1, sharex=True, sharey=True, figsize=(10, 1.5 * len(t_plot)))\n",
    "\n",
    "for i, t in enumerate(t_plot):\n",
    "    values = X[t].sum(0).flatten()\n",
    "    values = values[values >= val_min]\n",
    "    if val_max is not None:\n",
    "        values = values[values < val_max]\n",
    "    ax[i].hist(values, bins=bins)\n",
    "    ax[i].set_title(f'time t = {t}')\n",
    "    \n",
    "f.suptitle('Histogram of the degrees of the nodes over time');\n",
    "plt.tight_layout();"
   ]
  },
  {
   "cell_type": "markdown",
   "id": "258338e3",
   "metadata": {},
   "source": [
    "# Models"
   ]
  },
  {
   "cell_type": "markdown",
   "id": "35d91484",
   "metadata": {},
   "source": [
    "## HLBM"
   ]
  },
  {
   "cell_type": "markdown",
   "id": "be241d93",
   "metadata": {},
   "source": [
    "### Algo params"
   ]
  },
  {
   "cell_type": "code",
   "execution_count": null,
   "id": "931527d8",
   "metadata": {
    "ExecuteTime": {
     "end_time": "2022-02-03T12:16:34.960156Z",
     "start_time": "2022-02-03T12:16:34.952768Z"
    }
   },
   "outputs": [],
   "source": [
    "t_ = 0\n",
    "if X.ndim == 3:\n",
    "    X_ = X[t_]\n",
    "    Z_, W_ = Z[t_], W[t_]\n",
    "else:\n",
    "    X_ = X\n",
    "    Z_, W_ = Z, W\n",
    "\n",
    "sparse_X = True\n",
    "\n",
    "frac_r, frac_c = .1, .1\n",
    "frac_noise = 0.\n",
    "\n",
    "lambda_0 = 3.\n",
    "damping_factor = .7\n",
    "\n",
    "n_init = 20\n",
    "model_type = 'with_margins' # 'with_margins', 'without_margins'\n",
    "estimated_margins = True # True, False\n",
    "# 'skmeans' requires spherecluster & Python 3.7\n",
    "init_type = 'kmeans' # 'skmeans', 'kmeans'\n",
    "regularize_row, regularize_col = False, False\n",
    "regularization_mode = 'all' # 'all' 'mixture'\n",
    "em_type = 'CEM' # 'VEM', 'CEM'\n",
    "dtype = 'float64'\n",
    "\n",
    "n_init_clustering = 1\n",
    "node_perturbation_rate = .1\n",
    "multiplicative_init_rows = False # True, False\n",
    "multiplicative_init_cols = False # True, False\n",
    "power_multiplicative_init = 1 # True, False\n",
    "given_Z, given_W = None, None\n",
    "n_jobs = -1\n",
    "random_state = None # or np.random.RandomState(42) \n",
    "\n",
    "max_iter = 200\n",
    "tol_iter = 1e-8\n",
    "\n",
    "min_float = 1e-15\n",
    "min_proba_Z, min_proba_W = .05, .05\n",
    "min_proba_mixture_proportions = 1e-2  # to avoid empty clusters\n",
    "min_margin = 1e-10\n",
    "min_gamma = 1e-8\n",
    "threshold_absent_nodes = -1\n",
    "\n",
    "# debug_list contains the names of the parameters fo the models\n",
    "# or of the variational distribution that we wish to monitor\n",
    "# during the fitting of the model\n",
    "# This is done by writing the values of the model to disk\n",
    "# so it takes time and space. Providing an empty list\n",
    "# is the normal behavior\n",
    "debug_list = []\n",
    "debug_output = pathlib.Path(r'../dcblockmodels/model_debug_output')\n",
    "verbose = 1\n",
    "model_id = 1"
   ]
  },
  {
   "cell_type": "markdown",
   "id": "3975831e",
   "metadata": {},
   "source": [
    "### Initialization"
   ]
  },
  {
   "cell_type": "code",
   "execution_count": null,
   "id": "abd3c0f0",
   "metadata": {
    "ExecuteTime": {
     "end_time": "2022-02-03T12:16:38.260411Z",
     "start_time": "2022-02-03T12:16:38.246110Z"
    }
   },
   "outputs": [],
   "source": [
    "if sparse_X:\n",
    "    if not sp.sparse.issparse(X_):\n",
    "        X_ = general.to_sparse(X_)\n",
    "else:\n",
    "    if sp.sparse.issparse(X):\n",
    "        X_ = general.to_dense(X_)\n",
    "\n",
    "S_r = similarity_matrices.build_S(Z_, frac_r, frac_noise)\n",
    "S_c = similarity_matrices.build_S(W_, frac_c, frac_noise)\n",
    "\n",
    "S_r = sp.sparse.csr.csr_matrix(S_r)\n",
    "S_c = sp.sparse.csr.csr_matrix(S_c)"
   ]
  },
  {
   "cell_type": "markdown",
   "id": "ec0474ce",
   "metadata": {},
   "source": [
    "### Fitting the model"
   ]
  },
  {
   "cell_type": "code",
   "execution_count": null,
   "id": "702fc4d2",
   "metadata": {
    "ExecuteTime": {
     "end_time": "2022-02-03T12:16:44.073088Z",
     "start_time": "2022-02-03T12:16:39.589722Z"
    }
   },
   "outputs": [],
   "source": [
    "regularize_row, regularize_col = (lambda_0 != 0), (lambda_0 != 0)\n",
    "lambda_r, lambda_c = lambda_0, lambda_0\n",
    "\n",
    "model = HLBM(\n",
    "    Kz=Kz, Kw=Kw,\n",
    "    model_type=model_type,\n",
    "    estimated_margins=estimated_margins,\n",
    "    regularization_mode=regularization_mode,\n",
    "    regularize_row=regularize_row,\n",
    "    regularize_col=regularize_col,\n",
    "    n_init=n_init,\n",
    "    max_iter=max_iter,\n",
    "    em_type=em_type,\n",
    "    damping_factor=damping_factor,\n",
    "    multiplicative_init_rows=multiplicative_init_rows,\n",
    "    multiplicative_init_cols=multiplicative_init_cols,\n",
    "    power_multiplicative_init=power_multiplicative_init,\n",
    "    min_float=min_float,\n",
    "    min_proba_Z=min_proba_Z,\n",
    "    min_proba_W=min_proba_W,\n",
    "    min_proba_mixture_proportions=min_proba_mixture_proportions,\n",
    "    min_margin=min_margin,\n",
    "    min_gamma=min_gamma,\n",
    "    init_type=init_type,\n",
    "    n_init_clustering=n_init_clustering,\n",
    "    node_perturbation_rate=node_perturbation_rate,\n",
    "    model_id=model_id,\n",
    "    dtype=dtype,\n",
    "    threshold_absent_nodes=threshold_absent_nodes,\n",
    "    blockmodel_params=None,\n",
    "    random_state=random_state,\n",
    "    tol_iter=tol_iter,\n",
    "    n_jobs=n_jobs,\n",
    "    verbose=verbose, \n",
    "    debug_list=debug_list,\n",
    "    debug_output=debug_output\n",
    ")\n",
    "\n",
    "# Fit model\n",
    "model.fit(\n",
    "    X_,\n",
    "    given_Z=given_Z,\n",
    "    given_W=given_W, \n",
    "    S_r=S_r, lambda_r=lambda_r,\n",
    "    S_c=S_c, lambda_c=lambda_c\n",
    ")"
   ]
  },
  {
   "cell_type": "markdown",
   "id": "91cd4cc9",
   "metadata": {},
   "source": [
    "## Load/save model"
   ]
  },
  {
   "cell_type": "markdown",
   "id": "426e83bd",
   "metadata": {},
   "source": [
    "### Save"
   ]
  },
  {
   "cell_type": "code",
   "execution_count": null,
   "id": "35c23fc1",
   "metadata": {
    "ExecuteTime": {
     "end_time": "2022-01-24T16:04:42.325906Z",
     "start_time": "2022-01-24T16:04:42.312022Z"
    }
   },
   "outputs": [],
   "source": [
    "model.save(path='../saved_models', modelname='my_model')"
   ]
  },
  {
   "cell_type": "markdown",
   "id": "25b79fd3",
   "metadata": {},
   "source": [
    "### Load"
   ]
  },
  {
   "cell_type": "code",
   "execution_count": null,
   "id": "895ce56c",
   "metadata": {
    "ExecuteTime": {
     "end_time": "2022-01-24T16:04:56.102664Z",
     "start_time": "2022-01-24T16:04:56.094125Z"
    }
   },
   "outputs": [],
   "source": [
    "model = general.load_model('../saved_models/my_model')\n",
    "model"
   ]
  },
  {
   "cell_type": "markdown",
   "id": "4f5ab881",
   "metadata": {},
   "source": [
    "# Metrics & visualizations"
   ]
  },
  {
   "cell_type": "markdown",
   "id": "0787b309",
   "metadata": {},
   "source": [
    "## Partitions and criterion"
   ]
  },
  {
   "cell_type": "code",
   "execution_count": null,
   "id": "48d5ec9c",
   "metadata": {
    "ExecuteTime": {
     "end_time": "2022-02-03T14:15:04.857333Z",
     "start_time": "2022-02-03T14:15:04.628455Z"
    }
   },
   "outputs": [],
   "source": [
    "Z_model, W_model = model.best_partition(mode='likelihood', n_first=1)[0]\n",
    "#Z_model, W_model = model.best_partition(mode='consensus: hbgf', n_first=(model.n_init) // 2)[0]\n",
    "\n",
    "plot.plot_criterions(\n",
    "    model,\n",
    "    thr_decrease=1000,\n",
    "    i_start=0, i_end=-1,\n",
    "    legend=True\n",
    ")"
   ]
  },
  {
   "cell_type": "markdown",
   "id": "386fad5b",
   "metadata": {},
   "source": [
    "## HLBM"
   ]
  },
  {
   "cell_type": "markdown",
   "id": "99b7b664",
   "metadata": {},
   "source": [
    "### Metrics"
   ]
  },
  {
   "cell_type": "code",
   "execution_count": null,
   "id": "d4b178ac",
   "metadata": {
    "ExecuteTime": {
     "end_time": "2022-02-03T11:56:32.389344Z",
     "start_time": "2022-02-03T11:56:32.369821Z"
    }
   },
   "outputs": [],
   "source": [
    "Z_model, W_model = model.best_partition(mode='likelihood', n_first=1)[0]\n",
    "\n",
    "metrics.print_metrics(\n",
    "    Z_model, W_model, Z_, W_,\n",
    "    absent_nodes=None,\n",
    "    print_each_timestep=False\n",
    ")"
   ]
  },
  {
   "cell_type": "markdown",
   "id": "fbc6bd87",
   "metadata": {},
   "source": [
    "### Distribution of the metrics"
   ]
  },
  {
   "cell_type": "code",
   "execution_count": null,
   "id": "c9d61f67",
   "metadata": {
    "ExecuteTime": {
     "end_time": "2022-02-03T11:58:50.615439Z",
     "start_time": "2022-02-03T11:58:50.273701Z"
    }
   },
   "outputs": [],
   "source": [
    "f, ax = plt.subplots(figsize=(8, 4.5))\n",
    "\n",
    "caris = np.array([\n",
    "    metrics.get_metrics(\n",
    "        Z_model, W_model,\n",
    "        Z_, W_,\n",
    "        absent_nodes=None\n",
    "    )['cari']\n",
    "    for Z_model, W_model in model.best_partition(mode='likelihood', n_first=model.n_init)\n",
    "])\n",
    "sns.kdeplot(data=caris, ax=ax, bw=.2, clip=(caris.min() - .1, caris.max() + .1));\n",
    "ax.set_title(f'{model.__class__.__name__}: max CARI = {100 * caris.max():.2f}');\n",
    "ax.set_xlabel('global CARI values');"
   ]
  },
  {
   "cell_type": "markdown",
   "id": "761ec98f",
   "metadata": {},
   "source": [
    "### Confusion matrix"
   ]
  },
  {
   "cell_type": "code",
   "execution_count": null,
   "id": "63beaa4b",
   "metadata": {
    "ExecuteTime": {
     "end_time": "2022-02-03T12:01:51.629518Z",
     "start_time": "2022-02-03T12:01:51.614201Z"
    }
   },
   "outputs": [],
   "source": [
    "print('   Z')\n",
    "print(\n",
    "    metrics.cmat_clustering(\n",
    "        confusion_matrix(Z_model, Z_)\n",
    "    ),\n",
    "    end='\\n\\n'\n",
    ")\n",
    "print('   W')\n",
    "print(\n",
    "    metrics.cmat_clustering(\n",
    "        confusion_matrix(W_model, W_)\n",
    "    ),\n",
    "    end='\\n\\n'\n",
    ")"
   ]
  },
  {
   "cell_type": "markdown",
   "id": "c706dfcf",
   "metadata": {},
   "source": [
    "## Model parameters"
   ]
  },
  {
   "cell_type": "markdown",
   "id": "871a033d",
   "metadata": {},
   "source": [
    "`model.best_parameters` : a list of length the number of initializations of the model. Each element of the list is a tuple in the form `(crit, param_dic)`, where `crit` is the best value of the objective criterion of the model of the given init and `param_dic` contains the parameters of the model that gave this `crit` "
   ]
  },
  {
   "cell_type": "code",
   "execution_count": null,
   "id": "7ec82d62",
   "metadata": {
    "ExecuteTime": {
     "end_time": "2022-02-03T12:01:59.387254Z",
     "start_time": "2022-02-03T12:01:59.379744Z"
    },
    "scrolled": true
   },
   "outputs": [],
   "source": [
    "model.best_parameters[0]"
   ]
  },
  {
   "cell_type": "markdown",
   "id": "092ed77c",
   "metadata": {},
   "source": [
    "Mapping the indexes of the found clusters to the indexes of the true clusters using the Kuhn Munkres/Hungarian algorithm on the confusion matrix"
   ]
  },
  {
   "cell_type": "code",
   "execution_count": null,
   "id": "3696d6ab",
   "metadata": {
    "ExecuteTime": {
     "end_time": "2022-02-03T12:09:17.156827Z",
     "start_time": "2022-02-03T12:09:17.148111Z"
    }
   },
   "outputs": [],
   "source": [
    "from scipy.optimize import linear_sum_assignment\n",
    "from sklearn.metrics import confusion_matrix\n",
    "\n",
    "Z_model, W_model = model.best_partition(mode='likelihood', n_first=1)[0]\n",
    "\n",
    "cmat_Z = confusion_matrix(Z_model, Z_)\n",
    "cmat_W = confusion_matrix(W_model, W_)\n",
    "    \n",
    "indexes_Z = linear_sum_assignment(-cmat_Z)[1]\n",
    "indexes_W = linear_sum_assignment(-cmat_W)[1]"
   ]
  },
  {
   "cell_type": "code",
   "execution_count": null,
   "id": "8e3122c6",
   "metadata": {
    "ExecuteTime": {
     "end_time": "2022-02-03T12:09:18.353259Z",
     "start_time": "2022-02-03T12:09:17.993155Z"
    },
    "scrolled": true
   },
   "outputs": [],
   "source": [
    "f, ax = plt.subplots(1, 2, figsize=(12, 6))\n",
    "\n",
    "gamma_model = model.best_parameters[0][1]['gamma']\n",
    "print(gamma_model)\n",
    "print(indexes_W)\n",
    "print(indexes_Z)\n",
    "print(Z_model)\n",
    "print(Z_)\n",
    "print(W_model)\n",
    "print(W_)\n",
    "print(cmat_Z)\n",
    "print(cmat_W)\n",
    "\n",
    "reordered_gamma_model = gamma_model[np.ix_(indexes_Z, indexes_W)]\n",
    "\n",
    "sns.heatmap(reordered_gamma_model, ax=ax[0],  square=True)\n",
    "sns.heatmap(gamma[0], ax=ax[1], square=True)\n",
    "\n",
    "ax[0].set_title('Estimated gamma');\n",
    "ax[1].set_title('True gamma');"
   ]
  },
  {
   "cell_type": "code",
   "execution_count": null,
   "id": "e6f478f8",
   "metadata": {},
   "outputs": [],
   "source": []
  }
 ],
 "metadata": {
  "hide_input": false,
  "kernelspec": {
   "display_name": "Python 3 (ipykernel)",
   "language": "python",
   "name": "python3"
  },
  "language_info": {
   "codemirror_mode": {
    "name": "ipython",
    "version": 3
   },
   "file_extension": ".py",
   "mimetype": "text/x-python",
   "name": "python",
   "nbconvert_exporter": "python",
   "pygments_lexer": "ipython3",
   "version": "3.7.15"
  },
  "toc": {
   "base_numbering": 1,
   "nav_menu": {},
   "number_sections": true,
   "sideBar": true,
   "skip_h1_title": false,
   "title_cell": "Table of Contents",
   "title_sidebar": "Contents",
   "toc_cell": false,
   "toc_position": {
    "height": "calc(100% - 180px)",
    "left": "10px",
    "top": "150px",
    "width": "486.4px"
   },
   "toc_section_display": true,
   "toc_window_display": true
  }
 },
 "nbformat": 4,
 "nbformat_minor": 5
}
