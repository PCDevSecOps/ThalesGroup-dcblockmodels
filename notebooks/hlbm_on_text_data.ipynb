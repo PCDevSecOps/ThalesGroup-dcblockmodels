{
 "cells": [
  {
   "cell_type": "markdown",
   "id": "ed4f90bd",
   "metadata": {},
   "source": [
    "**This notebook applies the semi-supervised (or constrained) LBM `HLBM` on high-dimensional text data.**"
   ]
  },
  {
   "cell_type": "markdown",
   "id": "98daf658",
   "metadata": {},
   "source": [
    "# Imports"
   ]
  },
  {
   "cell_type": "code",
   "execution_count": null,
   "id": "cbd9af3b",
   "metadata": {
    "ExecuteTime": {
     "end_time": "2022-02-03T14:23:14.066696Z",
     "start_time": "2022-02-03T14:23:11.977193Z"
    }
   },
   "outputs": [],
   "source": [
    "import os\n",
    "import numpy as np\n",
    "import scipy as sp\n",
    "import pandas as pd\n",
    "import matplotlib.pyplot as plt\n",
    "import seaborn as sns\n",
    "import pathlib\n",
    "\n",
    "from dcblockmodels.models.hlbm import HLBM\n",
    "from dcblockmodels import metrics, plot, data\n",
    "from dcblockmodels.models.utils import similarity_matrices, general, init\n",
    "\n",
    "import os\n",
    "import sys\n",
    "sys.stderr = open(os.devnull, \"w\")"
   ]
  },
  {
   "cell_type": "markdown",
   "id": "683348b4",
   "metadata": {},
   "source": [
    "# Data"
   ]
  },
  {
   "cell_type": "code",
   "execution_count": null,
   "id": "0f4d4dc9",
   "metadata": {
    "ExecuteTime": {
     "end_time": "2022-02-03T13:14:26.095465Z",
     "start_time": "2022-02-03T13:14:25.865931Z"
    }
   },
   "outputs": [],
   "source": [
    "import re\n",
    "import nltk         \n",
    "from sklearn.feature_extraction.text import CountVectorizer\n",
    "from nltk.corpus import stopwords\n",
    "nltk.download('stopwords')\n",
    "\n",
    "def handle_spe_char(s):\n",
    "    \"\"\"\n",
    "    Removes some special characters considered uniinformative\n",
    "    The \"''\" character has to be treated separately\n",
    "    If there is a number in a token, it is replaced\n",
    "    by =number and spaces are added around it\n",
    "    \"\"\"\n",
    "    spe_char = \".,;()'-/:=[]`*+\\_^|\" #‘’\n",
    "    table = str.maketrans(dict.fromkeys(spe_char))\n",
    "    s = s.translate(table)\n",
    "    s = re.sub(\"''\", \"\", s)\n",
    "    #s = re.sub('|', ' ', s)\n",
    "    s = re.sub('\\n', ' ', s)\n",
    "    s = re.sub('\\d+', ' =number ', s)\n",
    "    return s\n",
    "\n",
    "class StemTokenizer:\n",
    "    stop_words = stopwords.words('english')\n",
    "    \n",
    "    def __init__(self, min_word_length):\n",
    "        self.stemmer = nltk.stem.PorterStemmer()\n",
    "        self.tokenizer = nltk.word_tokenize\n",
    "        self.min_wl = min_word_length\n",
    "        \n",
    "    def __call__(self, doc):\n",
    "        res_doc = []\n",
    "        for token in self.tokenizer(doc):\n",
    "            token_ = self.stemmer.stem(token)\n",
    "            if len(token_) >= self.min_wl:\n",
    "                if token_ not in self.stop_words:\n",
    "                    res_doc.append(token_)\n",
    "        return res_doc\n",
    "    \n",
    "\n",
    "vectorizer = CountVectorizer(\n",
    "     input='content', encoding='utf-8',\n",
    "     decode_error='strict', strip_accents=None,\n",
    "     lowercase=True, preprocessor=handle_spe_char,\n",
    "     tokenizer=StemTokenizer(min_word_length=3),\n",
    "     stop_words=None, token_pattern=r\"(?u)\\b\\w\\w+\\b\",\n",
    "     ngram_range=(1, 1), analyzer='word',\n",
    "     max_df=1.0, min_df=1, max_features=None,\n",
    "     vocabulary=None, binary=False, dtype=np.int64\n",
    ")\n"
   ]
  },
  {
   "cell_type": "markdown",
   "id": "444e58ee",
   "metadata": {},
   "source": [
    "## 20 Newsgroup"
   ]
  },
  {
   "cell_type": "markdown",
   "id": "6aef9c1c",
   "metadata": {},
   "source": [
    "### Build"
   ]
  },
  {
   "cell_type": "code",
   "execution_count": null,
   "id": "7c94c45c",
   "metadata": {
    "ExecuteTime": {
     "end_time": "2022-02-03T12:19:39.822609Z",
     "start_time": "2022-02-03T12:19:39.388314Z"
    }
   },
   "outputs": [],
   "source": [
    "from sklearn.datasets import fetch_20newsgroups\n",
    "\n",
    "corpus = fetch_20newsgroups(\n",
    "    data_home=None, subset='all',\n",
    "    categories=None, shuffle=True,\n",
    "    random_state=42, remove=(),\n",
    "    download_if_missing=True)\n",
    "\n",
    "corpus.target, corpus.target_names, corpus"
   ]
  },
  {
   "cell_type": "code",
   "execution_count": null,
   "id": "39b94d74",
   "metadata": {},
   "outputs": [],
   "source": [
    "nltk.download('punkt')"
   ]
  },
  {
   "cell_type": "code",
   "execution_count": null,
   "id": "605a7122",
   "metadata": {
    "ExecuteTime": {
     "end_time": "2022-02-03T12:22:13.874435Z",
     "start_time": "2022-02-03T12:19:40.726561Z"
    },
    "scrolled": true
   },
   "outputs": [],
   "source": [
    "X0 = vectorizer.fit_transform(corpus.data)\n",
    "y_ = corpus.target\n",
    "wf = np.squeeze(np.asarray(X0.sum(0)))\n",
    "\n",
    "X0.shape, vectorizer.get_feature_names()"
   ]
  },
  {
   "cell_type": "code",
   "execution_count": null,
   "id": "b672bc73",
   "metadata": {
    "ExecuteTime": {
     "end_time": "2022-02-03T12:22:14.103107Z",
     "start_time": "2022-02-03T12:22:13.876815Z"
    }
   },
   "outputs": [],
   "source": [
    "plt.plot([np.where(wf >= k)[0].shape[0] for k in range(20)]);\n",
    "plt.plot([19949 for k in range(20)]) # 26214\n",
    "plt.xlabel('word frequency threshold')\n",
    "plt.ylabel('X.shape[1]')"
   ]
  },
  {
   "cell_type": "code",
   "execution_count": null,
   "id": "79336310",
   "metadata": {
    "ExecuteTime": {
     "end_time": "2022-02-03T12:22:14.519733Z",
     "start_time": "2022-02-03T12:22:14.104609Z"
    }
   },
   "outputs": [],
   "source": [
    "n_docs = 10000 # None\n",
    "min_word_frequency = 9\n",
    "\n",
    "features = np.array(vectorizer.get_feature_names())\n",
    "selected_features_ind = np.where(wf >= min_word_frequency)[0]\n",
    "selected_features = features[selected_features_ind]\n",
    "unselected_features = features[~selected_features_ind]\n",
    "\n",
    "X = X0[:, selected_features_ind]\n",
    "\n",
    "if n_docs is not None:\n",
    "    docs = np.random.choice(X.shape[0], size=n_docs, replace=False)\n",
    "    X = X[docs]\n",
    "    y_ = y_[docs]\n",
    "    del docs\n",
    "\n",
    "del X0, features, wf, corpus\n",
    "\n",
    "X.shape, list(unselected_features)"
   ]
  },
  {
   "cell_type": "markdown",
   "id": "d736c296",
   "metadata": {},
   "source": [
    "### Save/load"
   ]
  },
  {
   "cell_type": "code",
   "execution_count": null,
   "id": "3affb526",
   "metadata": {
    "ExecuteTime": {
     "end_time": "2022-01-28T10:55:00.672514Z",
     "start_time": "2022-01-28T10:55:00.588742Z"
    }
   },
   "outputs": [],
   "source": [
    "sp.sparse.save_npz('data_ng20', X)\n",
    "np.save('labels_ng20', y_)"
   ]
  },
  {
   "cell_type": "code",
   "execution_count": null,
   "id": "4a59d6fb",
   "metadata": {
    "ExecuteTime": {
     "end_time": "2022-01-28T11:04:10.716543Z",
     "start_time": "2022-01-28T11:04:10.683613Z"
    }
   },
   "outputs": [],
   "source": [
    "X = sp.sparse.load_npz('data_ng20.npz')\n",
    "y_ = np.load('labels_ng20.npy')"
   ]
  },
  {
   "cell_type": "markdown",
   "id": "076b894f",
   "metadata": {},
   "source": [
    "## Reuters NLTK"
   ]
  },
  {
   "cell_type": "markdown",
   "id": "1e681d2c",
   "metadata": {},
   "source": [
    "### Build"
   ]
  },
  {
   "cell_type": "code",
   "execution_count": null,
   "id": "8e9f6ace",
   "metadata": {},
   "outputs": [],
   "source": [
    "import nltk\n",
    "nltk.download('reuters')"
   ]
  },
  {
   "cell_type": "code",
   "execution_count": null,
   "id": "467e6b33",
   "metadata": {
    "ExecuteTime": {
     "end_time": "2022-01-28T13:38:05.458909Z",
     "start_time": "2022-01-28T13:38:03.752041Z"
    }
   },
   "outputs": [],
   "source": [
    "from nltk.corpus import reuters\n",
    "\n",
    "fileids = reuters.fileids()\n",
    "\n",
    "corpus = []\n",
    "y = []\n",
    "for fileid in fileids[:]:\n",
    "    labels = reuters.categories(fileid)\n",
    "    if len(labels) == 1:\n",
    "        corpus.append(reuters.raw(fileid))\n",
    "        y.append(labels[0])"
   ]
  },
  {
   "cell_type": "code",
   "execution_count": null,
   "id": "4568bf1a",
   "metadata": {
    "ExecuteTime": {
     "end_time": "2022-01-28T13:38:05.473853Z",
     "start_time": "2022-01-28T13:38:05.460877Z"
    }
   },
   "outputs": [],
   "source": [
    "import pandas as pd\n",
    "n_largest_classes = 10\n",
    "classes, counts = np.unique(np.asarray(y), return_counts=True)\n",
    "df_classes = pd.DataFrame({'classes': classes, 'counts': counts}).sort_values(by='counts', ascending=False)\n",
    "categories = df_classes['classes'].values[:n_largest_classes]\n",
    "categories"
   ]
  },
  {
   "cell_type": "code",
   "execution_count": null,
   "id": "79b5de5a",
   "metadata": {
    "ExecuteTime": {
     "end_time": "2022-01-28T13:38:05.964017Z",
     "start_time": "2022-01-28T13:38:05.475299Z"
    }
   },
   "outputs": [],
   "source": [
    "fileids = reuters.fileids(categories=categories)\n",
    "\n",
    "corpus = []\n",
    "y = []\n",
    "for fileid in fileids[:]:\n",
    "    labels = reuters.categories(fileid)\n",
    "    if len(labels) == 1:\n",
    "        corpus.append(reuters.raw(fileid))\n",
    "        y.append(labels[0])"
   ]
  },
  {
   "cell_type": "code",
   "execution_count": null,
   "id": "438156c1",
   "metadata": {
    "ExecuteTime": {
     "end_time": "2022-01-28T13:38:30.324862Z",
     "start_time": "2022-01-28T13:38:05.965851Z"
    },
    "scrolled": true
   },
   "outputs": [],
   "source": [
    "X0 = vectorizer.fit_transform(corpus)\n",
    "\n",
    "y = np.array(y)\n",
    "classes = np.unique(y)\n",
    "map_classes = lambda c : np.argmax(classes == c)\n",
    "vmap_classes = np.vectorize(map_classes)\n",
    "y_ = vmap_classes(y)\n",
    "wf = np.squeeze(np.asarray(X0.sum(0)))\n",
    "\n",
    "X0.shape, vectorizer.get_feature_names()"
   ]
  },
  {
   "cell_type": "code",
   "execution_count": null,
   "id": "62c1725d",
   "metadata": {
    "ExecuteTime": {
     "end_time": "2022-01-28T13:38:30.533417Z",
     "start_time": "2022-01-28T13:38:30.326426Z"
    }
   },
   "outputs": [],
   "source": [
    "plt.plot([np.where(wf >= k)[0].shape[0] for k in range(20)]);\n",
    "plt.plot([18900 for k in range(20)])"
   ]
  },
  {
   "cell_type": "code",
   "execution_count": null,
   "id": "b36dfcd5",
   "metadata": {
    "ExecuteTime": {
     "end_time": "2022-01-28T13:38:30.589577Z",
     "start_time": "2022-01-28T13:38:30.535001Z"
    }
   },
   "outputs": [],
   "source": [
    "min_word_frequency = 5\n",
    "\n",
    "features = np.array(vectorizer.get_feature_names())\n",
    "selected_features_ind = np.where(wf >= min_word_frequency)[0]\n",
    "selected_features = features[selected_features_ind]\n",
    "unselected_features = features[~selected_features_ind]\n",
    "\n",
    "X = X0[:, selected_features_ind]\n",
    "\n",
    "X.shape, list(unselected_features)"
   ]
  },
  {
   "cell_type": "markdown",
   "id": "077adbbc",
   "metadata": {},
   "source": [
    "### Save/load"
   ]
  },
  {
   "cell_type": "code",
   "execution_count": null,
   "id": "570aba3b",
   "metadata": {
    "ExecuteTime": {
     "end_time": "2022-01-28T13:38:30.803326Z",
     "start_time": "2022-01-28T13:38:30.591513Z"
    }
   },
   "outputs": [],
   "source": [
    "sp.sparse.save_npz('data_reuters', X)\n",
    "np.save('labels_reuters', y_)"
   ]
  },
  {
   "cell_type": "code",
   "execution_count": null,
   "id": "4b0145cc",
   "metadata": {},
   "outputs": [],
   "source": [
    "X = sp.sparse.load_npz('data_reuters.npz')\n",
    "y_ = np.load('labels_reuters.npy')"
   ]
  },
  {
   "cell_type": "markdown",
   "id": "63cd7af3",
   "metadata": {},
   "source": [
    "## Classic"
   ]
  },
  {
   "cell_type": "markdown",
   "id": "4412be51",
   "metadata": {},
   "source": [
    "### Build"
   ]
  },
  {
   "cell_type": "code",
   "execution_count": null,
   "id": "fbcc32ad",
   "metadata": {
    "ExecuteTime": {
     "end_time": "2022-02-03T14:23:18.696625Z",
     "start_time": "2022-02-03T14:23:17.648900Z"
    }
   },
   "outputs": [],
   "source": [
    "import zipfile\n",
    "\n",
    "dataset_dir = '../datasets/'\n",
    "if 'classic' not in os.listdir(dataset_dir):\n",
    "    with zipfile.ZipFile(dataset_dir + 'classic.zip', 'r') as zip_ref:\n",
    "        zip_ref.extractall(dataset_dir)\n",
    "os.listdir(dataset_dir)"
   ]
  },
  {
   "cell_type": "code",
   "execution_count": null,
   "id": "d87cb71a",
   "metadata": {
    "ExecuteTime": {
     "end_time": "2022-02-03T13:14:53.423619Z",
     "start_time": "2022-02-03T13:14:33.044322Z"
    }
   },
   "outputs": [],
   "source": [
    "path = dataset_dir + 'classic/'\n",
    "\n",
    "def get_X_classic(path, vectorizer):\n",
    "    files = os.listdir(path)\n",
    "    corpus = []\n",
    "    y = []\n",
    "    for file in files:\n",
    "        y.append(file.split('.')[0]) # cluster in file name\n",
    "        with open(path + file) as f:\n",
    "            doc = ''.join(f.readlines())\n",
    "            corpus.append(doc)\n",
    "\n",
    "    X0 = vectorizer.fit_transform(corpus)\n",
    "    return X0, y\n",
    "\n",
    "X0, y = get_X_classic(path, vectorizer)\n",
    "\n",
    "y = np.array(y)\n",
    "classes = np.unique(y)\n",
    "map_classes = lambda c : np.argmax(classes == c)\n",
    "vmap_classes = np.vectorize(map_classes)\n",
    "y_ = vmap_classes(y)\n",
    "\n",
    "X0.shape, vectorizer.get_feature_names()"
   ]
  },
  {
   "cell_type": "code",
   "execution_count": null,
   "id": "b7ce53ac",
   "metadata": {
    "ExecuteTime": {
     "end_time": "2022-02-03T13:14:53.507717Z",
     "start_time": "2022-02-03T13:14:53.425845Z"
    },
    "scrolled": true
   },
   "outputs": [],
   "source": [
    "min_word_frequency = 4 #4\n",
    "wf = np.squeeze(np.asarray(X0.sum(0)))\n",
    "\n",
    "features = np.array(vectorizer.get_feature_names())\n",
    "selected_features_ind = np.where(wf >= min_word_frequency)[0]\n",
    "selected_features = features[selected_features_ind]\n",
    "unselected_features = features[~selected_features_ind]\n",
    "\n",
    "X = X0[:, selected_features_ind]\n",
    "\n",
    "X.shape, list(unselected_features)"
   ]
  },
  {
   "cell_type": "markdown",
   "id": "4c9e5cad",
   "metadata": {},
   "source": [
    "### Save/load"
   ]
  },
  {
   "cell_type": "code",
   "execution_count": null,
   "id": "2c7da18a",
   "metadata": {
    "ExecuteTime": {
     "end_time": "2021-07-21T15:57:22.082456Z",
     "start_time": "2021-07-21T15:57:19.406120Z"
    }
   },
   "outputs": [],
   "source": [
    "sp.sparse.save_npz('data_classic', X)\n",
    "np.save('labels_classic', y_)"
   ]
  },
  {
   "cell_type": "code",
   "execution_count": null,
   "id": "e6e16f9e",
   "metadata": {},
   "outputs": [],
   "source": [
    "X = sp.sparse.load_npz('data_classic.npz')\n",
    "y_ = np.load('labels_classic.npy')"
   ]
  },
  {
   "cell_type": "markdown",
   "id": "b519acfe",
   "metadata": {},
   "source": [
    "# Model"
   ]
  },
  {
   "cell_type": "markdown",
   "id": "8dd6b845",
   "metadata": {},
   "source": [
    "## Model params"
   ]
  },
  {
   "cell_type": "code",
   "execution_count": null,
   "id": "ac416815",
   "metadata": {
    "ExecuteTime": {
     "end_time": "2022-02-03T13:15:02.119890Z",
     "start_time": "2022-02-03T13:15:02.115223Z"
    }
   },
   "outputs": [],
   "source": [
    "X.shape, np.unique(y_).shape[0]"
   ]
  },
  {
   "cell_type": "code",
   "execution_count": null,
   "id": "c90f3fac",
   "metadata": {
    "ExecuteTime": {
     "end_time": "2022-02-03T13:15:02.423069Z",
     "start_time": "2022-02-03T13:15:02.409397Z"
    }
   },
   "outputs": [],
   "source": [
    "np.unique(X.data, return_counts=True)"
   ]
  },
  {
   "cell_type": "code",
   "execution_count": null,
   "id": "dbf8dec7",
   "metadata": {
    "ExecuteTime": {
     "end_time": "2022-02-03T13:15:02.997189Z",
     "start_time": "2022-02-03T13:15:02.641958Z"
    }
   },
   "outputs": [],
   "source": [
    "f, ax = plt.subplots(figsize=(10, 10))\n",
    "ax.spy(X, markersize=.1, precision=1)"
   ]
  },
  {
   "cell_type": "code",
   "execution_count": null,
   "id": "e57d244d",
   "metadata": {
    "ExecuteTime": {
     "end_time": "2022-02-03T13:15:03.134598Z",
     "start_time": "2022-02-03T13:15:03.125542Z"
    }
   },
   "outputs": [],
   "source": [
    "Kz = np.unique(y_).shape[0]\n",
    "Kw = 10\n",
    "\n",
    "max_iter = 100\n",
    "tol_iter = 1e-5\n",
    "\n",
    "frac_r, frac_c = .01, None\n",
    "frac_noise = 0.\n",
    "\n",
    "n_init = 10\n",
    "model_type = 'with_margins' # 'with_margins', 'without_margins'\n",
    "estimated_margins = False # True, False\n",
    "init_type = 'kmeans' #'skmeans' # 'skmeans', 'kmeans'\n",
    "regularize_row, regularize_col = True, False\n",
    "regularization_mode = 'all' # 'all' 'mixture'\n",
    "em_type = 'VEM' # 'VEM', 'CEM'\n",
    "compute_regularization = True\n",
    "\n",
    "lambda_r = 1.\n",
    "lambda_c = None\n",
    "damping_factor = None if em_type == 'CEM' else .7\n",
    "\n",
    "multiplicative_init_rows, multiplicative_init_cols = False, False # True, False\n",
    "power_multiplicative_init = 1\n",
    "given_Z, given_W = None, None\n",
    "\n",
    "min_float = 1e-15\n",
    "min_proba_Z, min_proba_W = .005, .005\n",
    "min_proba_mixture_proportions = .1 * (1 / Kz)  # to avoid empty clusters\n",
    "min_margin = 1e-12\n",
    "min_gamma = 1e-12\n",
    "threshold_absent_nodes = 0\n",
    "dtype = 'float32'\n",
    "debug_output = pathlib.Path(r'../dcblockmodels/model_debug_output')\n",
    "\n",
    "n_init_clustering = 7 * 1\n",
    "node_perturbation_rate = .2"
   ]
  },
  {
   "cell_type": "markdown",
   "id": "ef7916de",
   "metadata": {},
   "source": [
    "## Similarity"
   ]
  },
  {
   "cell_type": "code",
   "execution_count": null,
   "id": "1b50fc4d",
   "metadata": {
    "ExecuteTime": {
     "end_time": "2022-02-03T13:15:14.298175Z",
     "start_time": "2022-02-03T13:15:04.292928Z"
    }
   },
   "outputs": [],
   "source": [
    "if regularize_row:\n",
    "    S_r = similarity_matrices.build_S_sparse(y_, frac_r, stratified=False)\n",
    "else:\n",
    "    S_r = None\n",
    "S_c = None\n",
    "\n",
    "S_r, S_c"
   ]
  },
  {
   "cell_type": "markdown",
   "id": "6c1be724",
   "metadata": {},
   "source": [
    "## Fitting the model"
   ]
  },
  {
   "cell_type": "code",
   "execution_count": null,
   "id": "fd998f3b",
   "metadata": {
    "ExecuteTime": {
     "end_time": "2022-02-03T13:17:54.921904Z",
     "start_time": "2022-02-03T13:15:14.300575Z"
    },
    "scrolled": true
   },
   "outputs": [],
   "source": [
    "model = HLBM(\n",
    "        Kz=Kz, Kw=Kw,\n",
    "        model_type=model_type,\n",
    "        estimated_margins=estimated_margins,\n",
    "        regularization_mode=regularization_mode,\n",
    "        regularize_row=regularize_row, regularize_col=regularize_col,\n",
    "        n_init=n_init,\n",
    "        max_iter=max_iter,\n",
    "        em_type=em_type,\n",
    "        damping_factor=damping_factor,\n",
    "        multiplicative_init_rows=multiplicative_init_rows,\n",
    "        multiplicative_init_cols=multiplicative_init_cols,\n",
    "        power_multiplicative_init=power_multiplicative_init,\n",
    "        min_float=min_float,\n",
    "        min_proba_Z=min_proba_Z,\n",
    "        min_proba_W=min_proba_W,\n",
    "        min_proba_mixture_proportions=min_proba_mixture_proportions,\n",
    "        min_margin=min_margin,\n",
    "        min_gamma=min_gamma,\n",
    "        init_type=init_type,\n",
    "        n_init_clustering=n_init_clustering,\n",
    "        node_perturbation_rate=node_perturbation_rate,\n",
    "        compute_regularization=compute_regularization,\n",
    "        model_id=1,\n",
    "        dtype=dtype,\n",
    "        threshold_absent_nodes=threshold_absent_nodes,\n",
    "        blockmodel_params=None,\n",
    "        random_state=None, #np.random.RandomState(42) \n",
    "        tol_iter=tol_iter,\n",
    "        n_jobs=-1,\n",
    "        verbose=1, debug_list=[], #'Z', 'W'\n",
    "        debug_output=debug_output\n",
    ")\n",
    "model.fit(\n",
    "    X,\n",
    "    given_Z=given_Z,\n",
    "    given_W=given_W, \n",
    "    S_r=S_r, lambda_r=lambda_r,\n",
    "    S_c=S_c, lambda_c=lambda_c\n",
    ")"
   ]
  },
  {
   "cell_type": "code",
   "execution_count": null,
   "id": "471faf4d",
   "metadata": {
    "ExecuteTime": {
     "end_time": "2022-02-03T13:17:55.204754Z",
     "start_time": "2022-02-03T13:17:54.923929Z"
    }
   },
   "outputs": [],
   "source": [
    "plot.plot_criterions(\n",
    "    model,\n",
    "    thr_decrease=1000,\n",
    "    i_start=0, i_end=-1,\n",
    "    legend=True\n",
    ")"
   ]
  },
  {
   "cell_type": "code",
   "execution_count": null,
   "id": "292eb55f",
   "metadata": {
    "ExecuteTime": {
     "end_time": "2022-02-03T13:17:55.223934Z",
     "start_time": "2022-02-03T13:17:55.207349Z"
    }
   },
   "outputs": [],
   "source": [
    "Z_model, W_model = model.best_partition(mode='likelihood', n_first=1)[0]\n",
    "\n",
    "metrics.print_metrics(\n",
    "    Z_model, W_model, y_, None,\n",
    "    absent_nodes=None,\n",
    "    print_each_timestep=False\n",
    ")"
   ]
  },
  {
   "cell_type": "code",
   "execution_count": null,
   "id": "31cd63ba",
   "metadata": {
    "ExecuteTime": {
     "end_time": "2022-02-03T13:17:55.695263Z",
     "start_time": "2022-02-03T13:17:55.226095Z"
    }
   },
   "outputs": [],
   "source": [
    "from sklearn.metrics import confusion_matrix\n",
    "\n",
    "Z_model, W_model = model.best_partition(mode='likelihood', n_first=1)[0]\n",
    "cmat = metrics.cmat_clustering(confusion_matrix(Z_model, y_))\n",
    "\n",
    "f, ax = plt.subplots(figsize=(10, 10))\n",
    "sns.heatmap(cmat, annot=True, fmt='.0f', ax=ax, square=True, cmap=sns.light_palette(\"red\"))\n",
    "ax.set_title('confusion matrix');\n",
    "ax.set_xlabel('predicted');\n",
    "ax.set_ylabel('true');"
   ]
  },
  {
   "cell_type": "code",
   "execution_count": null,
   "id": "d2e4e37b",
   "metadata": {
    "ExecuteTime": {
     "end_time": "2022-02-03T13:17:56.792808Z",
     "start_time": "2022-02-03T13:17:55.697194Z"
    }
   },
   "outputs": [],
   "source": [
    "lw_cluster = 2.\n",
    "\n",
    "X_reorg = X.toarray()[np.ix_(np.argsort(Z_model), np.argsort(W_model))]\n",
    "\n",
    "f, ax = plt.subplots(figsize=(10, 10))\n",
    "ax.spy(X_reorg, markersize=.1, precision=1)\n",
    "\n",
    "# plots the lines that separates the blocks\n",
    "row_clusters, unique_row_indices = np.unique(Z_model, return_counts=True)\n",
    "x_indices = np.cumsum(unique_row_indices)\n",
    "for x in x_indices[:-1]:\n",
    "    ax.axhline(x, linewidth=lw_cluster)\n",
    "\n",
    "col_clusters, unique_col_indices = np.unique(W_model, return_counts=True)\n",
    "y_indices = np.cumsum(unique_col_indices)\n",
    "for x in y_indices[:-1]:\n",
    "    ax.axvline(x, linewidth=lw_cluster)"
   ]
  },
  {
   "cell_type": "code",
   "execution_count": null,
   "id": "ecf49d8a",
   "metadata": {},
   "outputs": [],
   "source": []
  }
 ],
 "metadata": {
  "hide_input": false,
  "kernelspec": {
   "display_name": "Python 3 (ipykernel)",
   "language": "python",
   "name": "python3"
  },
  "language_info": {
   "codemirror_mode": {
    "name": "ipython",
    "version": 3
   },
   "file_extension": ".py",
   "mimetype": "text/x-python",
   "name": "python",
   "nbconvert_exporter": "python",
   "pygments_lexer": "ipython3",
   "version": "3.7.15"
  },
  "toc": {
   "base_numbering": 1,
   "nav_menu": {},
   "number_sections": true,
   "sideBar": true,
   "skip_h1_title": false,
   "title_cell": "Table of Contents",
   "title_sidebar": "Contents",
   "toc_cell": false,
   "toc_position": {
    "height": "calc(100% - 180px)",
    "left": "10px",
    "top": "150px",
    "width": "480px"
   },
   "toc_section_display": true,
   "toc_window_display": true
  }
 },
 "nbformat": 4,
 "nbformat_minor": 5
}
