{
 "cells": [
  {
   "cell_type": "markdown",
   "id": "ac617c7b",
   "metadata": {},
   "source": [
    "**This notebook allows to simulate data, classify it using a DLBM model and evaluate the model in a controlled environnement. The model is a dynamic LBM `dLBM` for data represented as a series of adjacency matrices.**"
   ]
  },
  {
   "cell_type": "markdown",
   "id": "3bf00e47",
   "metadata": {},
   "source": [
    "# Imports"
   ]
  },
  {
   "cell_type": "code",
   "execution_count": null,
   "id": "bec266b8",
   "metadata": {
    "ExecuteTime": {
     "end_time": "2022-02-10T09:23:31.751414Z",
     "start_time": "2022-02-10T09:23:28.903594Z"
    }
   },
   "outputs": [],
   "source": [
    "import pathlib\n",
    "import numpy as np\n",
    "import scipy as sp\n",
    "import matplotlib.pyplot as plt\n",
    "import seaborn as sns\n",
    "%matplotlib inline\n",
    "\n",
    "from scipy.optimize import linear_sum_assignment\n",
    "from sklearn.metrics import confusion_matrix\n",
    "\n",
    "import warnings\n",
    "warnings.filterwarnings(\"ignore\", category=DeprecationWarning)\n",
    "warnings.filterwarnings(\"ignore\", message='Deprecation')\n",
    "\n",
    "from dcblockmodels.models.dlbm import dLBM\n",
    "\n",
    "from dcblockmodels import metrics, plot, data\n",
    "from dcblockmodels.models.utils import general, init\n",
    "from dcblockmodels.models.utils.smoothing_schedule import SmoothingSchedule"
   ]
  },
  {
   "cell_type": "markdown",
   "id": "8413e799",
   "metadata": {},
   "source": [
    "# Data"
   ]
  },
  {
   "cell_type": "markdown",
   "id": "7ac65838",
   "metadata": {},
   "source": [
    "## Sampling the data"
   ]
  },
  {
   "cell_type": "code",
   "execution_count": null,
   "id": "76075b11",
   "metadata": {
    "ExecuteTime": {
     "end_time": "2022-02-10T09:23:31.757910Z",
     "start_time": "2022-02-10T09:23:31.753531Z"
    }
   },
   "outputs": [],
   "source": [
    "# whether we sample from a SBM or LBM\n",
    "model_type_data = 'LBM'\n",
    "# in case of SBM, whether the graph is directed\n",
    "directed = True\n",
    "# number of time steps\n",
    "T = 20\n",
    "# nb of row nodes, nb of column nodes\n",
    "N, D = 200, 300\n",
    "# nb row clusters, nb of column clusters \n",
    "Kz, Kw = 3, 4"
   ]
  },
  {
   "cell_type": "code",
   "execution_count": null,
   "id": "ddd59632",
   "metadata": {
    "ExecuteTime": {
     "end_time": "2022-02-10T09:23:31.773339Z",
     "start_time": "2022-02-10T09:23:31.759331Z"
    }
   },
   "outputs": [],
   "source": [
    "level_alpha = 'easy'\n",
    "level_beta = 'easy'\n",
    "level_pi = 'easy'\n",
    "level_rho = 'easy'\n",
    "\n",
    "alphas_dirichlet = {\n",
    "    'very_easy': 10,\n",
    "    'easy': 8,\n",
    "    'medium': 6,\n",
    "    'hard': 4\n",
    "}\n",
    "diag_vals = {\n",
    "  'diag': 0,\n",
    "  'easy': .9,\n",
    "  'medium': .75,\n",
    "  'hard': .6\n",
    "}\n",
    "\n",
    "alpha = data.generate_initial_proportions(Kz, alphas_dirichlet[level_alpha])\n",
    "beta = data.generate_initial_proportions(Kw, alphas_dirichlet[level_beta])\n",
    "prior_init = {'alpha': alpha, 'beta': beta}\n",
    "\n",
    "pi = data.generate_diag_transition_matrix(Kz, diag_vals[level_pi]) \n",
    "rho = data.generate_diag_transition_matrix(Kw, diag_vals[level_rho])\n",
    "prior_trans = {'pi': pi, 'rho': rho}\n",
    "\n",
    "alpha, pi, beta, rho"
   ]
  },
  {
   "cell_type": "code",
   "execution_count": null,
   "id": "68dbbadf",
   "metadata": {
    "ExecuteTime": {
     "end_time": "2022-02-10T09:23:32.496038Z",
     "start_time": "2022-02-10T09:23:32.332025Z"
    }
   },
   "outputs": [],
   "source": [
    "with_margins = True # True, False\n",
    "constant_margins = False # True, False\n",
    "start, stop, step = 1, 50, .1\n",
    "order_power_law = -1.5 # margins ~ Unif(start, stop)^order_power_law\n",
    "# mu ~ AR1 : mu_{t+1} = N(a mu_t + c, sigma2) (c s.t. mu increasing if sigma2 = 0)\n",
    "ar_margins, a_ar, sigma2_ar = True, 1.1, .05 \n",
    "\n",
    "if with_margins:\n",
    "    mu, nu = data.generate_margins(\n",
    "        T, N, D, constant_margins, start, stop, step,\n",
    "        directed, order_power_law,\n",
    "        ar_margins, a_ar, sigma2_ar\n",
    "    )\n",
    "    margins = {'mu': mu, 'nu': nu}\n",
    "else:\n",
    "    margins = None\n",
    "    \n",
    "margins"
   ]
  },
  {
   "cell_type": "code",
   "execution_count": null,
   "id": "d8db1a89",
   "metadata": {
    "ExecuteTime": {
     "end_time": "2022-02-10T09:23:49.335157Z",
     "start_time": "2022-02-10T09:23:49.310317Z"
    }
   },
   "outputs": [],
   "source": [
    "with_absent_nodes = False # True, False\n",
    "min_proba_t = .0\n",
    "max_proba_t = .2\n",
    "proba_absent = None\n",
    "\n",
    "if with_absent_nodes:\n",
    "    absent_row_nodes = data.sample_absent_nodes(\n",
    "        T, N,\n",
    "        min_proba_t=min_proba_t,\n",
    "        max_proba_t=max_proba_t,\n",
    "        proba_absent=proba_absent\n",
    "    )\n",
    "    if not directed:\n",
    "        absent_col_nodes = absent_row_nodes.copy()\n",
    "    else:\n",
    "        absent_col_nodes = data.sample_absent_nodes(\n",
    "            T, D,\n",
    "            min_proba_t=min_proba_t,\n",
    "            max_proba_t=max_proba_t,\n",
    "            proba_absent=proba_absent\n",
    "        )\n",
    "else:\n",
    "    absent_row_nodes, absent_col_nodes = [], []\n",
    "\n",
    "absent_nodes = {\n",
    "    'absent_row_nodes': absent_row_nodes,\n",
    "    'absent_col_nodes': absent_col_nodes\n",
    "}\n",
    "absent_nodes"
   ]
  },
  {
   "cell_type": "code",
   "execution_count": null,
   "id": "dab2198a",
   "metadata": {
    "ExecuteTime": {
     "end_time": "2022-02-10T09:23:56.082978Z",
     "start_time": "2022-02-10T09:23:56.062983Z"
    }
   },
   "outputs": [],
   "source": [
    "# scaling factor for the matrix gamma : determines the separability level\n",
    "# lower is harder and more sparse\n",
    "gamma_0 = .05\n",
    "\n",
    "# defines the sparsity in a block\n",
    "# block_sparsity_matrix[t, k, l] is the proba of a zero\n",
    "# in block (k, l) at time t\n",
    "# corresponds to the \\beta_{kl}^t of Matias\n",
    "block_sparsity_matrix = None\n",
    "# block_sparsity_matrix = 0.1 * np.ones((Kz, Kw), dtype='float')\n",
    "\n",
    "# if we add gaussian noise to the sampled graph\n",
    "# not advised since it can make models with lower\n",
    "# complete data log likelihood give better classification results\n",
    "# than model with higher complete data log likelihood\n",
    "noise_level_ = 0.\n",
    "\n",
    "\n",
    "if Kz == 3 and Kw == 4:\n",
    "    gamma  = gamma_0 * np.array([\n",
    "        [1, 2, 3, 1 ],\n",
    "        [3, 1, 2, 3 ],\n",
    "        [2, 3, 1, 4 ]\n",
    "    ])\n",
    "elif Kz == 3 and Kw == 3:\n",
    "    gamma  = gamma_0 * np.array([\n",
    "        [1, 2, 3],\n",
    "        [3, 1, 2],\n",
    "        [2, 3, 1]\n",
    "    ])\n",
    "else:\n",
    "    raise ValueError\n",
    "\n",
    "if T > 1:\n",
    "    gamma = np.stack([gamma for _ in range(T)], axis=0)\n",
    "    if block_sparsity_matrix is not None:\n",
    "        block_sparsity_matrix = np.stack([block_sparsity_matrix for _ in range(T)], axis=0)\n",
    "        \n",
    "gamma"
   ]
  },
  {
   "cell_type": "code",
   "execution_count": null,
   "id": "05ea268c",
   "metadata": {
    "ExecuteTime": {
     "end_time": "2022-02-10T09:24:00.099758Z",
     "start_time": "2022-02-10T09:23:58.117497Z"
    }
   },
   "outputs": [],
   "source": [
    "dimensions = {'N': N, 'D': D}\n",
    "n_clusters = {'Kz': Kz, 'Kw': Kw}\n",
    "\n",
    "self_loops = True\n",
    "dtype = 'int32'\n",
    "\n",
    "X, Z, W = data.generate_data(\n",
    "    T,\n",
    "    model_type_data,\n",
    "    dimensions,\n",
    "    n_clusters,\n",
    "    prior_init,\n",
    "    prior_trans,\n",
    "    gamma,\n",
    "    with_margins,\n",
    "    margins,\n",
    "    self_loops,\n",
    "    directed,\n",
    "    noise_level_,\n",
    "    with_absent_nodes,\n",
    "    absent_nodes,\n",
    "    dtype,\n",
    "    block_sparsity_matrix\n",
    ")"
   ]
  },
  {
   "cell_type": "markdown",
   "id": "90c020d5",
   "metadata": {},
   "source": [
    "## Plot"
   ]
  },
  {
   "cell_type": "markdown",
   "id": "c74df45b",
   "metadata": {},
   "source": [
    "### Block view & link with matrix factorization"
   ]
  },
  {
   "cell_type": "code",
   "execution_count": null,
   "id": "46f3dc63",
   "metadata": {
    "ExecuteTime": {
     "end_time": "2022-02-03T11:40:22.239985Z",
     "start_time": "2022-02-03T11:40:21.551891Z"
    }
   },
   "outputs": [],
   "source": [
    "t_plot = 0\n",
    "X_ = X[t_plot]\n",
    "Z_ = Z[t_plot]\n",
    "W_ = W[t_plot]\n",
    "gamma_ = gamma[t_plot]\n",
    "\n",
    "row_indices = np.argsort(Z_.astype(int))\n",
    "col_indices = np.argsort(W_.astype(int))\n",
    "\n",
    "cmap = sns.cubehelix_palette(light=1., as_cmap=True)\n",
    "f, ax = plt.subplots(1, 4, figsize=(4 * 5, 5))\n",
    "\n",
    "sns.heatmap(X_, ax=ax[0], cbar=False, square=False, xticklabels=False, yticklabels=False, cmap=cmap)\n",
    "ax[0].set_title('Raw data')\n",
    "\n",
    "sns.heatmap(X_[row_indices, :], ax=ax[1], cbar=False, square=False, xticklabels=False, yticklabels=False, cmap=cmap)\n",
    "ax[1].set_title('Row-reorganized data')\n",
    "\n",
    "sns.heatmap(X_[np.ix_(row_indices, col_indices)], ax=ax[2], cbar=False, square=False, xticklabels=False, yticklabels=False, cmap=cmap)\n",
    "ax[2].set_title('Row and column-reorganized data')\n",
    "\n",
    "Z_encoded = general.encode(Z_, Kz)\n",
    "W_encoded = general.encode(W_, Kw)\n",
    "X_approx = Z_encoded.dot(gamma_).dot(W_encoded.T)\n",
    "sns.heatmap(X_approx[np.ix_(row_indices, col_indices)], ax=ax[3], cbar=False, square=False, xticklabels=False, yticklabels=False, cmap=cmap)\n",
    "ax[3].set_title('Connectivity-approximized data')\n",
    "\n",
    "plt.tight_layout()"
   ]
  },
  {
   "cell_type": "markdown",
   "id": "38da6976",
   "metadata": {},
   "source": [
    "### Dimensionality reduction with Correspondence Analysis"
   ]
  },
  {
   "cell_type": "code",
   "execution_count": null,
   "id": "4f7c9930",
   "metadata": {
    "ExecuteTime": {
     "end_time": "2022-02-03T11:40:39.150051Z",
     "start_time": "2022-02-03T11:40:34.318621Z"
    }
   },
   "outputs": [],
   "source": [
    "t_plot = 0\n",
    "# t_plot = [t for t in range(T)]\n",
    "# t_plot = [0, T//2, T - 1]\n",
    "\n",
    "if type(t_plot) == int:\n",
    "    t_plot = [t_plot]\n",
    "\n",
    "n_plots = len(t_plot)\n",
    "f, ax = plt.subplots(n_plots, 2, figsize=(10, 5 * n_plots))\n",
    "for i, t in enumerate(t_plot):\n",
    "    W_plot = W[t] if W is not None else None\n",
    "\n",
    "    absent_row = [tup[1] for tup in absent_row_nodes if tup[0] == t]\n",
    "    absent_col = [tup[1] for tup in absent_col_nodes if tup[0] == t]\n",
    "\n",
    "    plot.CA_plot(\n",
    "        X[t],\n",
    "        Z[t], W_plot,\n",
    "        absent_row, absent_col,\n",
    "        ax=ax[i]\n",
    "    )\n",
    "    ax[i, 0].set_title(f't = {t}')\n",
    "    ax[i, 1].set_title(f't = {t}')\n"
   ]
  },
  {
   "cell_type": "markdown",
   "id": "137afcd1",
   "metadata": {},
   "source": [
    "### True margins"
   ]
  },
  {
   "cell_type": "markdown",
   "id": "2de3e036",
   "metadata": {},
   "source": [
    "Plot margins over time, in the dynamic case"
   ]
  },
  {
   "cell_type": "code",
   "execution_count": null,
   "id": "23024ee1",
   "metadata": {
    "ExecuteTime": {
     "end_time": "2022-02-03T11:40:44.260515Z",
     "start_time": "2022-02-03T11:40:44.011289Z"
    }
   },
   "outputs": [],
   "source": [
    "n_nodes = 20\n",
    "f, ax = plt.subplots(1, 2, figsize=(2 * 6, 4))\n",
    "\n",
    "ax[0].plot(margins['mu'][:, np.random.choice(N, size=n_nodes)]);\n",
    "ax[0].set_title('True row margins mu');\n",
    "\n",
    "ax[1].plot(margins['nu'][:, np.random.choice(D, size=n_nodes)]);\n",
    "ax[1].set_title('True col margins nu');"
   ]
  },
  {
   "cell_type": "markdown",
   "id": "224c9caf",
   "metadata": {},
   "source": [
    "### Factorial Discriminant Analysis"
   ]
  },
  {
   "cell_type": "markdown",
   "id": "5bfc8b85",
   "metadata": {},
   "source": [
    "Measures the level of linear separability of the classes after projection onto R^N using correspondence analysis\n",
    "\n",
    "See Discriminative Factorial Analysis : http://www.math.u-bordeaux.fr/~mchave100p/wordpress/wp-content/uploads/2013/10/AFD.pdf"
   ]
  },
  {
   "cell_type": "code",
   "execution_count": null,
   "id": "b8dc5130",
   "metadata": {
    "ExecuteTime": {
     "end_time": "2022-02-03T11:40:49.139055Z",
     "start_time": "2022-02-03T11:40:47.753899Z"
    }
   },
   "outputs": [],
   "source": [
    "t_plot = 0\n",
    "t_plot = [t for t in range(T)]\n",
    "t_plot = [0, T//2, -1]\n",
    "\n",
    "n_components = 3\n",
    "\n",
    "f, ax = plt.subplots(len(t_plot), 2, squeeze=False, sharex=True, sharey=True, figsize=(5 * len(t_plot), 8))\n",
    "xs = np.arange(n_components, dtype='int')\n",
    "\n",
    "for i, t in enumerate(t_plot):\n",
    "    res = metrics.AFD_CA_linear_separation(\n",
    "        X[t], Z[t], W[t],\n",
    "        n_components=n_components,\n",
    "        absent_row_nodes=absent_row_nodes,\n",
    "        absent_col_nodes=absent_col_nodes\n",
    "    )\n",
    "    ax[i, 0].bar(xs, res[0])\n",
    "    ax[i, 1].bar(xs, res[1])\n",
    "    ax[i, 0].set_xlabel('factorial axis')\n",
    "    ax[i, 1].set_xlabel('factorial axis')\n",
    "    ax[i, 0].set_title(f'Rows, T = {t}')\n",
    "    ax[i, 1].set_title(f'Cols, T = {t}')\n",
    "\n",
    "plt.suptitle('CA AFD linear separability', y=1);\n",
    "plt.tight_layout()"
   ]
  },
  {
   "cell_type": "markdown",
   "id": "fdf4c251",
   "metadata": {},
   "source": [
    "### Distribution of the values of the cells of the data matrix"
   ]
  },
  {
   "cell_type": "code",
   "execution_count": null,
   "id": "2371b3cf",
   "metadata": {
    "ExecuteTime": {
     "end_time": "2022-02-03T11:41:00.800991Z",
     "start_time": "2022-02-03T11:41:00.136830Z"
    }
   },
   "outputs": [],
   "source": [
    "t_plot = 0\n",
    "t_plot = [t for t in range(T)]\n",
    "t_plot = [0, T//2, -1]\n",
    "\n",
    "bins = 50\n",
    "val_min = 1\n",
    "val_max = 100 # int or None\n",
    "\n",
    "f, ax = plt.subplots(len(t_plot), 1, sharex=True, sharey=True, figsize=(10, 1.5 * len(t_plot)))\n",
    "\n",
    "for i, t in enumerate(t_plot):\n",
    "    values = X[t].flatten()\n",
    "    values = values[values >= val_min]\n",
    "    if val_max is not None:\n",
    "        values = values[values < val_max]\n",
    "    ax[i].hist(values, bins=bins)\n",
    "    ax[i].set_title(f'time t = {t}')\n",
    "    \n",
    "f.suptitle('Histogram of the values of the cells of the data matrix over time');\n",
    "plt.tight_layout();"
   ]
  },
  {
   "cell_type": "code",
   "execution_count": null,
   "id": "8fe333fa",
   "metadata": {
    "ExecuteTime": {
     "end_time": "2022-02-03T11:41:02.120634Z",
     "start_time": "2022-02-03T11:41:01.567850Z"
    }
   },
   "outputs": [],
   "source": [
    "t_plot = 0\n",
    "t_plot = [t for t in range(T)]\n",
    "t_plot = [0, T//2, -1]\n",
    "\n",
    "bins = 50\n",
    "val_min = 0\n",
    "val_max = None #int or None\n",
    "\n",
    "f, ax = plt.subplots(len(t_plot), 1, sharex=True, sharey=True, figsize=(10, 1.5 * len(t_plot)))\n",
    "\n",
    "for i, t in enumerate(t_plot):\n",
    "    values = X[t].sum(0).flatten()\n",
    "    values = values[values >= val_min]\n",
    "    if val_max is not None:\n",
    "        values = values[values < val_max]\n",
    "    ax[i].hist(values, bins=bins)\n",
    "    ax[i].set_title(f'time t = {t}')\n",
    "    \n",
    "f.suptitle('Histogram of the degrees of the nodes over time');\n",
    "plt.tight_layout();"
   ]
  },
  {
   "attachments": {},
   "cell_type": "markdown",
   "id": "37944c14",
   "metadata": {},
   "source": [
    "# DLBM"
   ]
  },
  {
   "cell_type": "markdown",
   "id": "3c24ab54",
   "metadata": {},
   "source": [
    "### Algo params"
   ]
  },
  {
   "cell_type": "code",
   "execution_count": null,
   "id": "a2031578",
   "metadata": {
    "ExecuteTime": {
     "end_time": "2022-02-10T09:24:05.598531Z",
     "start_time": "2022-02-10T09:24:05.416239Z"
    }
   },
   "outputs": [],
   "source": [
    "smoothing_schedule = SmoothingSchedule('sigmoid', 50, tau0=1e-3, x0=-6., x1=5.)\n",
    "smoothing_schedule.plot()"
   ]
  },
  {
   "cell_type": "code",
   "execution_count": null,
   "id": "89c67479",
   "metadata": {
    "ExecuteTime": {
     "end_time": "2022-02-10T09:24:06.496074Z",
     "start_time": "2022-02-10T09:24:06.485304Z"
    }
   },
   "outputs": [],
   "source": [
    "model_type = 'with_margins' #  # 'with_margins', # 'without_margins'\n",
    "parameter_smoothing = True # True, False\n",
    "n_iter_supp_smoothing = 10\n",
    "sparse_X = True # True, False\n",
    "\n",
    "n_init = 10\n",
    "em_type = 'CEM' # 'VEM', 'CEM'\n",
    "max_iter = 500\n",
    "tol_iter = 1e-6\n",
    "min_float = 1e-15\n",
    "min_proba_Z, min_proba_W = .1, .1\n",
    "min_proba_mixture_proportions = 1e-1  # to avoid empty clusters\n",
    "min_margin = 1e-10\n",
    "min_gamma = 1e-10\n",
    "prior_diagonal_pi, prior_diagonal_rho = 0., 0. #.2, .2\n",
    "diag_pi_init, diag_rho_init = .7, .7\n",
    "\n",
    "init_type = 'skmeans' #'given' # 'skmeans', 'kmeans', 'given'\n",
    "type_init_margins = 'ones' # ones, X.\n",
    "given_mu, given_nu = None, None\n",
    "n_init_clustering = 20\n",
    "node_perturbation_rate = .15\n",
    "cluster_perturbation_rate = 0.\n",
    "threshold_absent_nodes = -1\n",
    "\n",
    "debug_output = pathlib.Path(r'../dcblockmodels/model_debug_output')\n",
    "dtype = 'float64'\n",
    "random_state = None\n",
    "n_jobs = -1\n",
    "verbose = 1\n",
    "model_id = 1\n",
    "\n",
    "# debug_list contains the names of the parameters fo the models\n",
    "# or of the variational distribution that we wish to monitor\n",
    "# during the fitting of the model\n",
    "# This is done by writing the values of the model to disk\n",
    "# so it takes time and space. Providing an empty list\n",
    "# is the normal behavior\n",
    "debug_list = []  # ['log_alpha', 'gamma', 'log_pi', 'Z', 'mu']"
   ]
  },
  {
   "cell_type": "markdown",
   "id": "d30d6d4d",
   "metadata": {},
   "source": [
    "### Initialization"
   ]
  },
  {
   "cell_type": "code",
   "execution_count": null,
   "id": "5fc56de5",
   "metadata": {
    "ExecuteTime": {
     "end_time": "2022-02-10T09:24:17.200760Z",
     "start_time": "2022-02-10T09:24:13.514583Z"
    }
   },
   "outputs": [],
   "source": [
    "if init_type == 'given':\n",
    "    # one could get initial partitions\n",
    "    # using any clustering algo\n",
    "    given_Z = init._skmeans_init(\n",
    "        np.concatenate([X[t] for t in range(T)], axis=1),\n",
    "        Kz, n_init_clustering, random_state=None, n_jobs=-1\n",
    "    )\n",
    "    given_W = init._skmeans_init(\n",
    "        np.concatenate([X[t] for t in range(T)], axis=0).T,\n",
    "        Kw, n_init_clustering, random_state=None, n_jobs=-1\n",
    "    )\n",
    "else:\n",
    "    given_Z, given_W = None, None\n",
    "\n",
    "if sparse_X:\n",
    "    X_ = [general.to_sparse(X[t]) for t in range(T)]\n",
    "else:\n",
    "    X_ = X.copy()"
   ]
  },
  {
   "cell_type": "markdown",
   "id": "3540682e",
   "metadata": {},
   "source": [
    "### Fitting the model"
   ]
  },
  {
   "cell_type": "code",
   "execution_count": null,
   "id": "5a1df072",
   "metadata": {
    "ExecuteTime": {
     "end_time": "2022-02-10T09:24:49.158307Z",
     "start_time": "2022-02-10T09:24:18.418387Z"
    },
    "scrolled": true
   },
   "outputs": [],
   "source": [
    "model = dLBM(\n",
    "    model_type=model_type,\n",
    "    em_type=em_type,\n",
    "    parameter_smoothing=parameter_smoothing,\n",
    "    Kz=Kz, Kw=Kw,\n",
    "    n_init=n_init,\n",
    "    model_id=model_id,\n",
    "    max_iter=max_iter,\n",
    "    type_init_margins=type_init_margins,\n",
    "    smoothing_schedule=smoothing_schedule.schedule,\n",
    "    n_iter_supp_smoothing=n_iter_supp_smoothing,\n",
    "    prior_diagonal_pi=prior_diagonal_pi,\n",
    "    prior_diagonal_rho=prior_diagonal_rho,\n",
    "    diag_pi_init=diag_pi_init,\n",
    "    diag_rho_init=diag_rho_init,\n",
    "    init_type=init_type,\n",
    "    n_init_clustering=n_init_clustering,\n",
    "    node_perturbation_rate=node_perturbation_rate,\n",
    "    cluster_perturbation_rate=cluster_perturbation_rate,\n",
    "    threshold_absent_nodes=threshold_absent_nodes,\n",
    "    min_proba_mixture_proportions=min_proba_mixture_proportions,\n",
    "    min_gamma=min_gamma,\n",
    "    min_margin=min_margin,\n",
    "    min_proba_Z=min_proba_Z,\n",
    "    min_proba_W=min_proba_W,\n",
    "    dtype=dtype,\n",
    "    blockmodel_params=None,\n",
    "    random_state=random_state,\n",
    "    tol_iter=tol_iter,\n",
    "    n_jobs=n_jobs, verbose=verbose,\n",
    "    debug_list=debug_list,\n",
    "    debug_output=debug_output\n",
    ")\n",
    "model.fit(\n",
    "    X_, \n",
    "    given_Z=given_Z, given_W=given_W,\n",
    "    given_mu=given_mu, given_nu=given_nu\n",
    ")"
   ]
  },
  {
   "cell_type": "markdown",
   "id": "23bc1bb2",
   "metadata": {},
   "source": [
    "## Load/save model"
   ]
  },
  {
   "cell_type": "markdown",
   "id": "4e7b20a3",
   "metadata": {},
   "source": [
    "### Save"
   ]
  },
  {
   "cell_type": "code",
   "execution_count": null,
   "id": "05b2141c",
   "metadata": {
    "ExecuteTime": {
     "end_time": "2022-01-24T16:04:42.325906Z",
     "start_time": "2022-01-24T16:04:42.312022Z"
    }
   },
   "outputs": [],
   "source": [
    "model.save(path='../saved_models', modelname='my_model')"
   ]
  },
  {
   "cell_type": "markdown",
   "id": "3399143e",
   "metadata": {},
   "source": [
    "### Load"
   ]
  },
  {
   "cell_type": "code",
   "execution_count": null,
   "id": "c6118fd1",
   "metadata": {
    "ExecuteTime": {
     "end_time": "2022-01-24T16:04:56.102664Z",
     "start_time": "2022-01-24T16:04:56.094125Z"
    }
   },
   "outputs": [],
   "source": [
    "model = general.load_model('../saved_models/my_model')\n",
    "model"
   ]
  },
  {
   "cell_type": "markdown",
   "id": "7c5a2cbe",
   "metadata": {},
   "source": [
    "# Metrics & visualizations"
   ]
  },
  {
   "cell_type": "markdown",
   "id": "b53b5c62",
   "metadata": {},
   "source": [
    "## Partitions and criterion"
   ]
  },
  {
   "cell_type": "code",
   "execution_count": null,
   "id": "5d7e162d",
   "metadata": {
    "ExecuteTime": {
     "end_time": "2022-02-03T14:15:04.857333Z",
     "start_time": "2022-02-03T14:15:04.628455Z"
    }
   },
   "outputs": [],
   "source": [
    "Z_model, W_model = model.best_partition(mode='likelihood', n_first=1)[0]\n",
    "#Z_model, W_model = model.best_partition(mode='consensus: hbgf', n_first=(model.n_init) // 2)[0]\n",
    "\n",
    "plot.plot_criterions(\n",
    "    model,\n",
    "    thr_decrease=1000,\n",
    "    i_start=0, i_end=-1,\n",
    "    legend=True\n",
    ")"
   ]
  },
  {
   "cell_type": "markdown",
   "id": "dea43b42",
   "metadata": {},
   "source": [
    "## DLBM"
   ]
  },
  {
   "cell_type": "markdown",
   "id": "208429c4",
   "metadata": {},
   "source": [
    "### Metrics"
   ]
  },
  {
   "cell_type": "code",
   "execution_count": null,
   "id": "27a56550",
   "metadata": {
    "ExecuteTime": {
     "end_time": "2022-02-03T14:16:03.021136Z",
     "start_time": "2022-02-03T14:16:02.939999Z"
    },
    "scrolled": true
   },
   "outputs": [],
   "source": [
    "metrics.print_metrics(\n",
    "    Z_model, W_model, Z, W,\n",
    "    absent_nodes=model.absent_nodes,\n",
    "    print_each_timestep=True\n",
    ")"
   ]
  },
  {
   "cell_type": "markdown",
   "id": "6a66f1c9",
   "metadata": {},
   "source": [
    "### Confusion matrices"
   ]
  },
  {
   "cell_type": "code",
   "execution_count": null,
   "id": "b945db71",
   "metadata": {
    "ExecuteTime": {
     "end_time": "2022-02-03T11:56:44.940497Z",
     "start_time": "2022-02-03T11:56:44.912597Z"
    },
    "cell_style": "split"
   },
   "outputs": [],
   "source": [
    "for t in range(T):\n",
    "    print('t = {}'.format(t), end='\\n')\n",
    "    print(metrics.cmat_clustering(confusion_matrix(\n",
    "        Z_model[t], Z[t])), end='\\n\\n')"
   ]
  },
  {
   "cell_type": "code",
   "execution_count": null,
   "id": "e0026a9e",
   "metadata": {
    "ExecuteTime": {
     "end_time": "2022-01-24T16:17:38.322717Z",
     "start_time": "2022-01-24T16:17:38.295008Z"
    },
    "cell_style": "split"
   },
   "outputs": [],
   "source": [
    "for t in range(T):\n",
    "    print('t = {}'.format(t), end='\\n')\n",
    "    print(metrics.cmat_clustering(confusion_matrix(\n",
    "        W_model[t], W[t])), end='\\n\\n')"
   ]
  },
  {
   "cell_type": "code",
   "execution_count": null,
   "id": "9cbf20d0",
   "metadata": {
    "ExecuteTime": {
     "end_time": "2022-01-24T16:17:41.190033Z",
     "start_time": "2022-01-24T16:17:40.984682Z"
    }
   },
   "outputs": [],
   "source": [
    "plot.plot_alluvial(Z)"
   ]
  },
  {
   "cell_type": "code",
   "execution_count": null,
   "id": "00373f9f",
   "metadata": {
    "ExecuteTime": {
     "end_time": "2022-01-24T16:17:43.163869Z",
     "start_time": "2022-01-24T16:17:43.132552Z"
    }
   },
   "outputs": [],
   "source": [
    "plot.plot_alluvial(Z_model)"
   ]
  },
  {
   "cell_type": "markdown",
   "id": "e5d9696b",
   "metadata": {},
   "source": [
    "## Model parameters"
   ]
  },
  {
   "cell_type": "markdown",
   "id": "918e2bd5",
   "metadata": {},
   "source": [
    "`model.best_parameters` : a list of length the number of initializations of the model. Each element of the list is a tuple in the form `(crit, param_dic)`, where `crit` is the best value of the objective criterion of the model of the given init and `param_dic` contains the parameters of the model that gave this `crit` "
   ]
  },
  {
   "cell_type": "code",
   "execution_count": null,
   "id": "4795bdd6",
   "metadata": {
    "ExecuteTime": {
     "end_time": "2022-02-03T12:01:59.387254Z",
     "start_time": "2022-02-03T12:01:59.379744Z"
    }
   },
   "outputs": [],
   "source": [
    "model.best_parameters[0]"
   ]
  },
  {
   "cell_type": "markdown",
   "id": "a09928b3",
   "metadata": {},
   "source": [
    "Mapping the indexes of the found clusters to the indexes of the true clusters using the Kuhn Munkres/Hungarian algorithm on the confusion matrix"
   ]
  },
  {
   "cell_type": "code",
   "execution_count": null,
   "id": "1d6e8bb4",
   "metadata": {
    "ExecuteTime": {
     "end_time": "2022-02-03T12:09:17.156827Z",
     "start_time": "2022-02-03T12:09:17.148111Z"
    }
   },
   "outputs": [],
   "source": [
    "Z_model, W_model = model.best_partition(mode='likelihood', n_first=1)[0]\n",
    "\n",
    "cmat_Z = confusion_matrix(\n",
    "    metrics.get_flat_present_nodes(Z_model, absent_row_nodes),\n",
    "    metrics.get_flat_present_nodes(Z, absent_row_nodes)\n",
    ")\n",
    "cmat_W = confusion_matrix(\n",
    "    metrics.get_flat_present_nodes(W_model, absent_col_nodes),\n",
    "    metrics.get_flat_present_nodes(W, absent_col_nodes)\n",
    ")\n",
    "    \n",
    "indexes_Z = linear_sum_assignment(-cmat_Z)[1]\n",
    "indexes_W = linear_sum_assignment(-cmat_W)[1]"
   ]
  },
  {
   "cell_type": "code",
   "execution_count": null,
   "id": "eea23259",
   "metadata": {
    "ExecuteTime": {
     "end_time": "2022-02-03T12:09:18.353259Z",
     "start_time": "2022-02-03T12:09:17.993155Z"
    }
   },
   "outputs": [],
   "source": [
    "f, ax = plt.subplots(1, 2, figsize=(12, 6))\n",
    "\n",
    "gamma_model = model.best_parameters[0][1]['gamma']\n",
    "reordered_gamma_model = gamma_model[np.ix_(indexes_Z, indexes_W)]\n",
    "\n",
    "sns.heatmap(reordered_gamma_model, ax=ax[0],  square=True)\n",
    "sns.heatmap(gamma[0], ax=ax[1], square=True)\n",
    "\n",
    "ax[0].set_title('Estimated gamma');\n",
    "ax[1].set_title('True gamma');"
   ]
  },
  {
   "cell_type": "code",
   "execution_count": null,
   "id": "d0befdee",
   "metadata": {
    "ExecuteTime": {
     "end_time": "2022-02-03T12:10:29.511205Z",
     "start_time": "2022-02-03T12:10:29.485939Z"
    }
   },
   "outputs": [],
   "source": [
    "f, ax = plt.subplots(2, 2, figsize=(12, 6))\n",
    "\n",
    "pi_model = np.exp(model.best_parameters[0][1]['log_pi'])\n",
    "reordered_pi_model = pi_model[np.ix_(indexes_Z, indexes_Z)]\n",
    "\n",
    "sns.heatmap(reordered_pi_model, ax=ax[0, 0],  square=True)\n",
    "sns.heatmap(pi, ax=ax[0, 1], square=True)\n",
    "\n",
    "ax[0, 0].set_title('Estimated pi')\n",
    "ax[0, 1].set_title('True pi')\n",
    "\n",
    "rho_model = np.exp(model.best_parameters[0][1]['log_rho'])\n",
    "reordered_rho_model = rho_model[np.ix_(indexes_W, indexes_W)]\n",
    "\n",
    "sns.heatmap(reordered_rho_model, ax=ax[1, 0],  square=True)\n",
    "sns.heatmap(rho, ax=ax[1, 1], square=True)\n",
    "\n",
    "ax[1, 0].set_title('Estimated rho')\n",
    "ax[1, 1].set_title('True rho');"
   ]
  },
  {
   "cell_type": "code",
   "execution_count": null,
   "id": "1a6d1e41",
   "metadata": {
    "ExecuteTime": {
     "end_time": "2022-02-03T12:10:51.320478Z",
     "start_time": "2022-02-03T12:10:51.306552Z"
    }
   },
   "outputs": [],
   "source": [
    "n_nodes = 20\n",
    "f, ax = plt.subplots(2, 2, figsize=(2 * 8, 8))\n",
    "\n",
    "row_nodes = np.random.choice(N, size=n_nodes)\n",
    "col_nodes = np.random.choice(D, size=n_nodes)\n",
    "\n",
    "ax[0, 0].plot(margins['mu'][:, row_nodes])\n",
    "ax[0, 1].plot(model.best_parameters[0][1]['mu'][:, row_nodes])\n",
    "ax[0, 0].set_title('True row margins mu')\n",
    "ax[0, 1].set_title('Estimated row margins mu')\n",
    "\n",
    "ax[1, 0].plot(margins['nu'][:, col_nodes])\n",
    "ax[1, 1].plot(model.best_parameters[0][1]['nu'][:, col_nodes])\n",
    "ax[1, 0].set_title('True row margins nu')\n",
    "ax[1, 1].set_title('Estimated row margins nu');"
   ]
  },
  {
   "cell_type": "markdown",
   "id": "3cc92c2b",
   "metadata": {},
   "source": [
    "# Debug : parameters during inference"
   ]
  },
  {
   "cell_type": "markdown",
   "id": "0bd09351",
   "metadata": {},
   "source": [
    "Get parameter values during the iterations of the algorithm. The parameters we wish to analyze must be given as strings in given in model.debug_list. The parameters are written in the directory `dcblockmodels/model_debug_output`, which should be emptied from time to time."
   ]
  },
  {
   "cell_type": "code",
   "execution_count": null,
   "id": "e40eab9f",
   "metadata": {
    "ExecuteTime": {
     "end_time": "2022-02-03T12:11:18.472738Z",
     "start_time": "2022-02-03T12:11:18.177298Z"
    }
   },
   "outputs": [],
   "source": [
    "debug_dic = model.get_debug()\n",
    "debug_dic"
   ]
  },
  {
   "cell_type": "code",
   "execution_count": null,
   "id": "a64d40fd",
   "metadata": {
    "ExecuteTime": {
     "end_time": "2022-01-25T12:11:33.462494Z",
     "start_time": "2022-01-25T12:11:33.457146Z"
    }
   },
   "outputs": [],
   "source": [
    "# debug_dic['param'][init][iter] : returns the value of the parameter \n",
    "# 'param' that was given in self.debug_list\n",
    "# for the initialization init\n",
    "# and for the iteration iter\n",
    "debug_dic['gamma'][0][10]"
   ]
  },
  {
   "cell_type": "markdown",
   "id": "1fcac6d5",
   "metadata": {},
   "source": [
    "## Alpha and beta"
   ]
  },
  {
   "cell_type": "code",
   "execution_count": null,
   "id": "393c479c",
   "metadata": {
    "ExecuteTime": {
     "end_time": "2022-01-25T12:11:34.378583Z",
     "start_time": "2022-01-25T12:11:33.464514Z"
    }
   },
   "outputs": [],
   "source": [
    "plot.plot_alphas_during_optim(debug_dic['log_alpha'])"
   ]
  },
  {
   "cell_type": "markdown",
   "id": "226c1bcb",
   "metadata": {},
   "source": [
    "## Pi and rho"
   ]
  },
  {
   "cell_type": "code",
   "execution_count": null,
   "id": "d8455add",
   "metadata": {
    "ExecuteTime": {
     "end_time": "2022-01-24T15:59:48.656940Z",
     "start_time": "2022-01-24T15:59:47.486307Z"
    }
   },
   "outputs": [],
   "source": [
    "plot.plot_pi_rho_during_optim(debug_dic['log_pi'])"
   ]
  },
  {
   "cell_type": "markdown",
   "id": "78f83fdf",
   "metadata": {},
   "source": [
    "## Gamma"
   ]
  },
  {
   "cell_type": "code",
   "execution_count": null,
   "id": "2faa8244",
   "metadata": {
    "ExecuteTime": {
     "end_time": "2022-01-24T15:59:58.797714Z",
     "start_time": "2022-01-24T15:59:57.843486Z"
    },
    "scrolled": false
   },
   "outputs": [],
   "source": [
    "plot.plot_gamma_during_optim(debug_dic['gamma'])"
   ]
  },
  {
   "cell_type": "markdown",
   "id": "784d1a3e",
   "metadata": {},
   "source": [
    "## Mu and nu"
   ]
  },
  {
   "cell_type": "code",
   "execution_count": null,
   "id": "a81749c5",
   "metadata": {
    "ExecuteTime": {
     "end_time": "2022-01-24T16:00:12.572968Z",
     "start_time": "2022-01-24T16:00:10.193151Z"
    }
   },
   "outputs": [],
   "source": [
    "plot.plot_mu_nu_during_optim(debug_dic['mu'], indexes=np.random.choice(N, size=(2)))"
   ]
  },
  {
   "cell_type": "code",
   "execution_count": null,
   "id": "6de8df8f",
   "metadata": {},
   "outputs": [],
   "source": []
  }
 ],
 "metadata": {
  "hide_input": false,
  "kernelspec": {
   "display_name": "Python 3 (ipykernel)",
   "language": "python",
   "name": "python3"
  },
  "language_info": {
   "codemirror_mode": {
    "name": "ipython",
    "version": 3
   },
   "file_extension": ".py",
   "mimetype": "text/x-python",
   "name": "python",
   "nbconvert_exporter": "python",
   "pygments_lexer": "ipython3",
   "version": "3.7.16"
  },
  "toc": {
   "base_numbering": 1,
   "nav_menu": {},
   "number_sections": true,
   "sideBar": true,
   "skip_h1_title": false,
   "title_cell": "Table of Contents",
   "title_sidebar": "Contents",
   "toc_cell": false,
   "toc_position": {
    "height": "calc(100% - 180px)",
    "left": "10px",
    "top": "150px",
    "width": "486.4px"
   },
   "toc_section_display": true,
   "toc_window_display": true
  }
 },
 "nbformat": 4,
 "nbformat_minor": 5
}
